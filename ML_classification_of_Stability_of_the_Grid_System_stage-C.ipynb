{
  "nbformat": 4,
  "nbformat_minor": 0,
  "metadata": {
    "colab": {
      "name": "ML classification of Stability of the Grid System.ipynb",
      "provenance": [],
      "authorship_tag": "ABX9TyMCbF3p41/H5TwnnNS8BAz7",
      "include_colab_link": true
    },
    "kernelspec": {
      "name": "python3",
      "display_name": "Python 3"
    }
  },
  "cells": [
    {
      "cell_type": "markdown",
      "metadata": {
        "id": "view-in-github",
        "colab_type": "text"
      },
      "source": [
        "<a href=\"https://colab.research.google.com/github/kakiang/Hamoye-projects/blob/master/ML_classification_of_Stability_of_the_Grid_System_stage-C.ipynb\" target=\"_parent\"><img src=\"https://colab.research.google.com/assets/colab-badge.svg\" alt=\"Open In Colab\"/></a>"
      ]
    },
    {
      "cell_type": "markdown",
      "metadata": {
        "id": "TcFSlmtwupM3",
        "colab_type": "text"
      },
      "source": [
        "# Stability of the Grid System\n",
        "Electrical grids require a balance between electricity supply and demand in order to be stable. Conventional systems achieve this balance through demand-driven electricity production. For future grids with a high share of inflexible (i.e., renewable) energy source, the concept of demand response is a promising solution. This implies changes in electricity consumption in relation to electricity price changes. In this work, we’ll build a binary classification model to predict if a grid is stable or unstable using the UCI Electrical Grid Stability Simulated dataset.\n",
        "\n",
        "https://bit.ly/HDSC-StageThreeDataset\n",
        "\n",
        "Dataset: https://archive.ics.uci.edu/ml/datasets/Electrical+Grid+Stability+Simulated+Data+\n",
        "\n",
        "It has 12 primary predictive features and two dependent variables.\n",
        "\n",
        "### Predictive features:\n",
        "\n",
        "1. __'tau1' to 'tau4'__: the reaction time of each network participant, a real value within the range 0.5 to 10 ('tau1' corresponds to the supplier node, 'tau2' to 'tau4' to the consumer nodes);\n",
        "2. __'p1' to 'p4'__: nominal power produced (positive) or consumed (negative) by each network participant, a real value within the range -2.0 to -0.5 for consumers ('p2' to 'p4'). As the total power consumed equals the total power generated, p1 (supplier node) = - (p2 + p3 + p4);\n",
        "3. __'g1' to 'g4'__: price elasticity coefficient for each network participant, a real value within the range 0.05 to 1.00 ('g1' corresponds to the supplier node, 'g2' to 'g4' to the consumer nodes; 'g' stands for 'gamma');\n",
        "\n",
        "### Dependent variables:\n",
        "\n",
        "1. __'stab'__: the maximum real part of the characteristic differential equation root (if positive, the system is linearly unstable; if negative, linearly stable);\n",
        "2. __'stabf'__: a categorical (binary) label ('stable' or 'unstable').\n",
        "\n",
        "Because of the direct relationship between 'stab' and 'stabf' ('stabf' = 'stable' if 'stab' <= 0, 'unstable' otherwise), __'stab' should be dropped__ and 'stabf' will remain as the sole dependent variable (binary classification).\n",
        "\n",
        "Split the data into an __80-20 train-test split__ with a __random state of \"1\"__. Use the __standard scaler__ to transform the train set (x_train, y_train) and the test set (x_test). Use __scikit learn__ to train a __random forest__ and __extra trees classifier__. And use __xgboost__ and __lightgbm__ to train an __extreme boosting model__ and a __light gradient boosting model__. Use __random_state = 1__ for training all models and evaluate on the test set. \n",
        "\n",
        "Also, to improve the Extra Trees Classifier, you will use the following parameters (number of estimators, minimum number of samples, minimum number of samples for leaf node and the number of features to consider when looking for the best split) for the hyperparameter grid needed to run a __Randomized Cross Validation Search (RandomizedSearchCV)__. \n",
        "\n",
        "```\n",
        "n_estimators = [50, 100, 300, 500, 1000]\n",
        "min_samples_split = [2, 3, 5, 7, 9]\n",
        "min_samples_leaf = [1, 2, 4, 6, 8]\n",
        "max_features = ['auto', 'sqrt', 'log2', None] \n",
        "hyperparameter_grid = {'n_estimators': n_estimators,\n",
        "                       'min_samples_leaf': min_samples_leaf,\n",
        "                       'min_samples_split': min_samples_split,\n",
        "                       'max_features': max_features}\n",
        "```"
      ]
    },
    {
      "cell_type": "code",
      "metadata": {
        "id": "5h62av29vwcQ",
        "colab_type": "code",
        "colab": {}
      },
      "source": [
        "import pandas as pd\n",
        "import numpy as np\n",
        "\n",
        "# Algorithms\n",
        "from sklearn.ensemble import RandomForestClassifier, ExtraTreesClassifier\n",
        "from xgboost import XGBClassifier\n",
        "from lightgbm import LGBMClassifier\n",
        "\n",
        "# training and testing set split\n",
        "from sklearn.model_selection import train_test_split\n",
        "\n",
        "# Hyperparameters search\n",
        "from sklearn.model_selection import RandomizedSearchCV\n",
        "\n",
        "# feature scaling\n",
        "from sklearn.preprocessing import StandardScaler\n",
        "\n",
        "# categorical features to numeric values ecoding\n",
        "from sklearn.preprocessing import LabelEncoder\n",
        "\n",
        "# evaluation metric\n",
        "from sklearn.metrics import (\n",
        "    accuracy_score,\n",
        "    precision_score,\n",
        "    recall_score,\n",
        "    f1_score,\n",
        "    classification_report\n",
        ")\n",
        "import matplotlib.pyplot as plt\n",
        "\n",
        "# Multiple Cell Outputs\n",
        "from IPython.core.interactiveshell import InteractiveShell\n",
        "InteractiveShell.ast_node_interactivity = \"all\""
      ],
      "execution_count": 309,
      "outputs": []
    },
    {
      "cell_type": "code",
      "metadata": {
        "id": "LpKfep94v1ld",
        "colab_type": "code",
        "colab": {}
      },
      "source": [
        "url = \"https://archive.ics.uci.edu/ml/machine-learning-databases/00471/Data_for_UCI_named.csv\"\n",
        "df = pd.read_csv(url)"
      ],
      "execution_count": 310,
      "outputs": []
    },
    {
      "cell_type": "code",
      "metadata": {
        "id": "zV4gp2mCv6v2",
        "colab_type": "code",
        "colab": {
          "base_uri": "https://localhost:8080/",
          "height": 204
        },
        "outputId": "f6cf14e8-47a3-4d3a-a419-59c4b6a25df4"
      },
      "source": [
        "df.sample(5)"
      ],
      "execution_count": 311,
      "outputs": [
        {
          "output_type": "execute_result",
          "data": {
            "text/html": [
              "<div>\n",
              "<style scoped>\n",
              "    .dataframe tbody tr th:only-of-type {\n",
              "        vertical-align: middle;\n",
              "    }\n",
              "\n",
              "    .dataframe tbody tr th {\n",
              "        vertical-align: top;\n",
              "    }\n",
              "\n",
              "    .dataframe thead th {\n",
              "        text-align: right;\n",
              "    }\n",
              "</style>\n",
              "<table border=\"1\" class=\"dataframe\">\n",
              "  <thead>\n",
              "    <tr style=\"text-align: right;\">\n",
              "      <th></th>\n",
              "      <th>tau1</th>\n",
              "      <th>tau2</th>\n",
              "      <th>tau3</th>\n",
              "      <th>tau4</th>\n",
              "      <th>p1</th>\n",
              "      <th>p2</th>\n",
              "      <th>p3</th>\n",
              "      <th>p4</th>\n",
              "      <th>g1</th>\n",
              "      <th>g2</th>\n",
              "      <th>g3</th>\n",
              "      <th>g4</th>\n",
              "      <th>stab</th>\n",
              "      <th>stabf</th>\n",
              "    </tr>\n",
              "  </thead>\n",
              "  <tbody>\n",
              "    <tr>\n",
              "      <th>9993</th>\n",
              "      <td>5.754191</td>\n",
              "      <td>3.032743</td>\n",
              "      <td>5.084803</td>\n",
              "      <td>4.633624</td>\n",
              "      <td>5.199250</td>\n",
              "      <td>-1.717030</td>\n",
              "      <td>-1.713212</td>\n",
              "      <td>-1.769009</td>\n",
              "      <td>0.157284</td>\n",
              "      <td>0.975921</td>\n",
              "      <td>0.511555</td>\n",
              "      <td>0.696591</td>\n",
              "      <td>0.050212</td>\n",
              "      <td>unstable</td>\n",
              "    </tr>\n",
              "    <tr>\n",
              "      <th>7920</th>\n",
              "      <td>8.495331</td>\n",
              "      <td>7.606952</td>\n",
              "      <td>3.217939</td>\n",
              "      <td>2.428662</td>\n",
              "      <td>4.626098</td>\n",
              "      <td>-1.940888</td>\n",
              "      <td>-1.772451</td>\n",
              "      <td>-0.912759</td>\n",
              "      <td>0.218724</td>\n",
              "      <td>0.854847</td>\n",
              "      <td>0.209914</td>\n",
              "      <td>0.698561</td>\n",
              "      <td>0.012104</td>\n",
              "      <td>unstable</td>\n",
              "    </tr>\n",
              "    <tr>\n",
              "      <th>914</th>\n",
              "      <td>0.989826</td>\n",
              "      <td>2.097108</td>\n",
              "      <td>5.339491</td>\n",
              "      <td>5.312712</td>\n",
              "      <td>2.404153</td>\n",
              "      <td>-0.601866</td>\n",
              "      <td>-1.019907</td>\n",
              "      <td>-0.782380</td>\n",
              "      <td>0.127028</td>\n",
              "      <td>0.689045</td>\n",
              "      <td>0.111295</td>\n",
              "      <td>0.742447</td>\n",
              "      <td>-0.027474</td>\n",
              "      <td>stable</td>\n",
              "    </tr>\n",
              "    <tr>\n",
              "      <th>9331</th>\n",
              "      <td>0.949789</td>\n",
              "      <td>3.275222</td>\n",
              "      <td>9.235240</td>\n",
              "      <td>4.346157</td>\n",
              "      <td>3.871261</td>\n",
              "      <td>-1.201214</td>\n",
              "      <td>-1.752475</td>\n",
              "      <td>-0.917572</td>\n",
              "      <td>0.078717</td>\n",
              "      <td>0.744904</td>\n",
              "      <td>0.580935</td>\n",
              "      <td>0.899550</td>\n",
              "      <td>0.019914</td>\n",
              "      <td>unstable</td>\n",
              "    </tr>\n",
              "    <tr>\n",
              "      <th>7051</th>\n",
              "      <td>4.299831</td>\n",
              "      <td>4.782164</td>\n",
              "      <td>7.941514</td>\n",
              "      <td>5.465812</td>\n",
              "      <td>2.577699</td>\n",
              "      <td>-1.256360</td>\n",
              "      <td>-0.759252</td>\n",
              "      <td>-0.562087</td>\n",
              "      <td>0.337133</td>\n",
              "      <td>0.670412</td>\n",
              "      <td>0.569131</td>\n",
              "      <td>0.079580</td>\n",
              "      <td>0.021512</td>\n",
              "      <td>unstable</td>\n",
              "    </tr>\n",
              "  </tbody>\n",
              "</table>\n",
              "</div>"
            ],
            "text/plain": [
              "          tau1      tau2      tau3  ...        g4      stab     stabf\n",
              "9993  5.754191  3.032743  5.084803  ...  0.696591  0.050212  unstable\n",
              "7920  8.495331  7.606952  3.217939  ...  0.698561  0.012104  unstable\n",
              "914   0.989826  2.097108  5.339491  ...  0.742447 -0.027474    stable\n",
              "9331  0.949789  3.275222  9.235240  ...  0.899550  0.019914  unstable\n",
              "7051  4.299831  4.782164  7.941514  ...  0.079580  0.021512  unstable\n",
              "\n",
              "[5 rows x 14 columns]"
            ]
          },
          "metadata": {
            "tags": []
          },
          "execution_count": 311
        }
      ]
    },
    {
      "cell_type": "code",
      "metadata": {
        "id": "UuXnclkhmx9V",
        "colab_type": "code",
        "colab": {
          "base_uri": "https://localhost:8080/",
          "height": 374
        },
        "outputId": "855b6705-8bf7-44a1-b078-5e628ca46609"
      },
      "source": [
        "df.info()"
      ],
      "execution_count": 312,
      "outputs": [
        {
          "output_type": "stream",
          "text": [
            "<class 'pandas.core.frame.DataFrame'>\n",
            "RangeIndex: 10000 entries, 0 to 9999\n",
            "Data columns (total 14 columns):\n",
            " #   Column  Non-Null Count  Dtype  \n",
            "---  ------  --------------  -----  \n",
            " 0   tau1    10000 non-null  float64\n",
            " 1   tau2    10000 non-null  float64\n",
            " 2   tau3    10000 non-null  float64\n",
            " 3   tau4    10000 non-null  float64\n",
            " 4   p1      10000 non-null  float64\n",
            " 5   p2      10000 non-null  float64\n",
            " 6   p3      10000 non-null  float64\n",
            " 7   p4      10000 non-null  float64\n",
            " 8   g1      10000 non-null  float64\n",
            " 9   g2      10000 non-null  float64\n",
            " 10  g3      10000 non-null  float64\n",
            " 11  g4      10000 non-null  float64\n",
            " 12  stab    10000 non-null  float64\n",
            " 13  stabf   10000 non-null  object \n",
            "dtypes: float64(13), object(1)\n",
            "memory usage: 1.1+ MB\n"
          ],
          "name": "stdout"
        }
      ]
    },
    {
      "cell_type": "code",
      "metadata": {
        "id": "Gy4GpJHFv8Sd",
        "colab_type": "code",
        "colab": {
          "base_uri": "https://localhost:8080/",
          "height": 317
        },
        "outputId": "1bbd2549-77f5-4d5e-d8c4-122c63d37d29"
      },
      "source": [
        "df.describe()"
      ],
      "execution_count": 313,
      "outputs": [
        {
          "output_type": "execute_result",
          "data": {
            "text/html": [
              "<div>\n",
              "<style scoped>\n",
              "    .dataframe tbody tr th:only-of-type {\n",
              "        vertical-align: middle;\n",
              "    }\n",
              "\n",
              "    .dataframe tbody tr th {\n",
              "        vertical-align: top;\n",
              "    }\n",
              "\n",
              "    .dataframe thead th {\n",
              "        text-align: right;\n",
              "    }\n",
              "</style>\n",
              "<table border=\"1\" class=\"dataframe\">\n",
              "  <thead>\n",
              "    <tr style=\"text-align: right;\">\n",
              "      <th></th>\n",
              "      <th>tau1</th>\n",
              "      <th>tau2</th>\n",
              "      <th>tau3</th>\n",
              "      <th>tau4</th>\n",
              "      <th>p1</th>\n",
              "      <th>p2</th>\n",
              "      <th>p3</th>\n",
              "      <th>p4</th>\n",
              "      <th>g1</th>\n",
              "      <th>g2</th>\n",
              "      <th>g3</th>\n",
              "      <th>g4</th>\n",
              "      <th>stab</th>\n",
              "    </tr>\n",
              "  </thead>\n",
              "  <tbody>\n",
              "    <tr>\n",
              "      <th>count</th>\n",
              "      <td>10000.000000</td>\n",
              "      <td>10000.000000</td>\n",
              "      <td>10000.000000</td>\n",
              "      <td>10000.000000</td>\n",
              "      <td>10000.000000</td>\n",
              "      <td>10000.000000</td>\n",
              "      <td>10000.000000</td>\n",
              "      <td>10000.000000</td>\n",
              "      <td>10000.000000</td>\n",
              "      <td>10000.000000</td>\n",
              "      <td>10000.000000</td>\n",
              "      <td>10000.000000</td>\n",
              "      <td>10000.000000</td>\n",
              "    </tr>\n",
              "    <tr>\n",
              "      <th>mean</th>\n",
              "      <td>5.250000</td>\n",
              "      <td>5.250001</td>\n",
              "      <td>5.250004</td>\n",
              "      <td>5.249997</td>\n",
              "      <td>3.750000</td>\n",
              "      <td>-1.250000</td>\n",
              "      <td>-1.250000</td>\n",
              "      <td>-1.250000</td>\n",
              "      <td>0.525000</td>\n",
              "      <td>0.525000</td>\n",
              "      <td>0.525000</td>\n",
              "      <td>0.525000</td>\n",
              "      <td>0.015731</td>\n",
              "    </tr>\n",
              "    <tr>\n",
              "      <th>std</th>\n",
              "      <td>2.742548</td>\n",
              "      <td>2.742549</td>\n",
              "      <td>2.742549</td>\n",
              "      <td>2.742556</td>\n",
              "      <td>0.752160</td>\n",
              "      <td>0.433035</td>\n",
              "      <td>0.433035</td>\n",
              "      <td>0.433035</td>\n",
              "      <td>0.274256</td>\n",
              "      <td>0.274255</td>\n",
              "      <td>0.274255</td>\n",
              "      <td>0.274255</td>\n",
              "      <td>0.036919</td>\n",
              "    </tr>\n",
              "    <tr>\n",
              "      <th>min</th>\n",
              "      <td>0.500793</td>\n",
              "      <td>0.500141</td>\n",
              "      <td>0.500788</td>\n",
              "      <td>0.500473</td>\n",
              "      <td>1.582590</td>\n",
              "      <td>-1.999891</td>\n",
              "      <td>-1.999945</td>\n",
              "      <td>-1.999926</td>\n",
              "      <td>0.050009</td>\n",
              "      <td>0.050053</td>\n",
              "      <td>0.050054</td>\n",
              "      <td>0.050028</td>\n",
              "      <td>-0.080760</td>\n",
              "    </tr>\n",
              "    <tr>\n",
              "      <th>25%</th>\n",
              "      <td>2.874892</td>\n",
              "      <td>2.875140</td>\n",
              "      <td>2.875522</td>\n",
              "      <td>2.874950</td>\n",
              "      <td>3.218300</td>\n",
              "      <td>-1.624901</td>\n",
              "      <td>-1.625025</td>\n",
              "      <td>-1.624960</td>\n",
              "      <td>0.287521</td>\n",
              "      <td>0.287552</td>\n",
              "      <td>0.287514</td>\n",
              "      <td>0.287494</td>\n",
              "      <td>-0.015557</td>\n",
              "    </tr>\n",
              "    <tr>\n",
              "      <th>50%</th>\n",
              "      <td>5.250004</td>\n",
              "      <td>5.249981</td>\n",
              "      <td>5.249979</td>\n",
              "      <td>5.249734</td>\n",
              "      <td>3.751025</td>\n",
              "      <td>-1.249966</td>\n",
              "      <td>-1.249974</td>\n",
              "      <td>-1.250007</td>\n",
              "      <td>0.525009</td>\n",
              "      <td>0.525003</td>\n",
              "      <td>0.525015</td>\n",
              "      <td>0.525002</td>\n",
              "      <td>0.017142</td>\n",
              "    </tr>\n",
              "    <tr>\n",
              "      <th>75%</th>\n",
              "      <td>7.624690</td>\n",
              "      <td>7.624893</td>\n",
              "      <td>7.624948</td>\n",
              "      <td>7.624838</td>\n",
              "      <td>4.282420</td>\n",
              "      <td>-0.874977</td>\n",
              "      <td>-0.875043</td>\n",
              "      <td>-0.875065</td>\n",
              "      <td>0.762435</td>\n",
              "      <td>0.762490</td>\n",
              "      <td>0.762440</td>\n",
              "      <td>0.762433</td>\n",
              "      <td>0.044878</td>\n",
              "    </tr>\n",
              "    <tr>\n",
              "      <th>max</th>\n",
              "      <td>9.999469</td>\n",
              "      <td>9.999837</td>\n",
              "      <td>9.999450</td>\n",
              "      <td>9.999443</td>\n",
              "      <td>5.864418</td>\n",
              "      <td>-0.500108</td>\n",
              "      <td>-0.500072</td>\n",
              "      <td>-0.500025</td>\n",
              "      <td>0.999937</td>\n",
              "      <td>0.999944</td>\n",
              "      <td>0.999982</td>\n",
              "      <td>0.999930</td>\n",
              "      <td>0.109403</td>\n",
              "    </tr>\n",
              "  </tbody>\n",
              "</table>\n",
              "</div>"
            ],
            "text/plain": [
              "               tau1          tau2  ...            g4          stab\n",
              "count  10000.000000  10000.000000  ...  10000.000000  10000.000000\n",
              "mean       5.250000      5.250001  ...      0.525000      0.015731\n",
              "std        2.742548      2.742549  ...      0.274255      0.036919\n",
              "min        0.500793      0.500141  ...      0.050028     -0.080760\n",
              "25%        2.874892      2.875140  ...      0.287494     -0.015557\n",
              "50%        5.250004      5.249981  ...      0.525002      0.017142\n",
              "75%        7.624690      7.624893  ...      0.762433      0.044878\n",
              "max        9.999469      9.999837  ...      0.999930      0.109403\n",
              "\n",
              "[8 rows x 13 columns]"
            ]
          },
          "metadata": {
            "tags": []
          },
          "execution_count": 313
        }
      ]
    },
    {
      "cell_type": "code",
      "metadata": {
        "id": "PNIsbdOYwGJI",
        "colab_type": "code",
        "colab": {
          "base_uri": "https://localhost:8080/",
          "height": 265
        },
        "outputId": "ee2a3fa4-c263-4289-bfa3-20ab464662f5"
      },
      "source": [
        "df.stabf.value_counts().plot(kind = 'bar', rot=0);"
      ],
      "execution_count": 314,
      "outputs": [
        {
          "output_type": "display_data",
          "data": {
            "image/png": "[encoded data removed]",
            "text/plain": [
              "<Figure size 432x288 with 1 Axes>"
            ]
          },
          "metadata": {
            "tags": [],
            "needs_background": "light"
          }
        }
      ]
    },
    {
      "cell_type": "code",
      "metadata": {
        "id": "ZLQ21Cx7la-f",
        "colab_type": "code",
        "colab": {}
      },
      "source": [
        "X = df.drop(columns = ['stab','stabf'])\n",
        "y = df['stabf']"
      ],
      "execution_count": 315,
      "outputs": []
    },
    {
      "cell_type": "code",
      "metadata": {
        "id": "8HeO_ztKlovC",
        "colab_type": "code",
        "colab": {
          "base_uri": "https://localhost:8080/",
          "height": 34
        },
        "outputId": "c9efa240-ecd1-40e3-e0ce-f95e0b3b1b0f"
      },
      "source": [
        "x_train, x_test, y_train, y_test = train_test_split(X, y, test_size=0.2, random_state=1)\n",
        "# x_train = x_train.copy()\n",
        "# x_test = x_test.copy()\n",
        "y_train.shape, y_test.shape"
      ],
      "execution_count": 316,
      "outputs": [
        {
          "output_type": "execute_result",
          "data": {
            "text/plain": [
              "((8000,), (2000,))"
            ]
          },
          "metadata": {
            "tags": []
          },
          "execution_count": 316
        }
      ]
    },
    {
      "cell_type": "code",
      "metadata": {
        "id": "DcChUiXylrLA",
        "colab_type": "code",
        "colab": {}
      },
      "source": [
        "scaler = StandardScaler()\n",
        "\n",
        "# scaling the training set\n",
        "scaled_x_train = scaler.fit_transform(x_train)\n",
        "scaled_x_train = pd.DataFrame(scaled_x_train, columns = x_train.columns)\n",
        "\n",
        "# scaling the testing set\n",
        "scaled_x_test = scaler.transform(x_test)\n",
        "scaled_x_test = pd.DataFrame(scaled_x_test, columns = x_test.columns)"
      ],
      "execution_count": 317,
      "outputs": []
    },
    {
      "cell_type": "code",
      "metadata": {
        "id": "aU0embHEnYSz",
        "colab_type": "code",
        "colab": {}
      },
      "source": [
        "x_test = x_test.reset_index(drop=True)\n",
        "y_test = y_test.reset_index(drop=True)"
      ],
      "execution_count": 318,
      "outputs": []
    },
    {
      "cell_type": "code",
      "metadata": {
        "id": "LWF7mF54o60H",
        "colab_type": "code",
        "colab": {
          "base_uri": "https://localhost:8080/",
          "height": 119
        },
        "outputId": "2656abdf-2bc9-42c0-9809-d848c7f35c5c"
      },
      "source": [
        "from sklearn.linear_model import LogisticRegression\n",
        "log_reg = LogisticRegression()\n",
        "# fit a Logistic Regression model\n",
        "log_reg.fit(scaled_x_train, y_train)\n",
        "\n",
        "y_pred = log_reg.predict(scaled_x_test)\n",
        "accuracy = accuracy_score(y_test, y_pred)\n",
        "print('\\nFor reference, LogisticRegression Accuracy: {}'.format(round(accuracy, 4)))"
      ],
      "execution_count": 319,
      "outputs": [
        {
          "output_type": "execute_result",
          "data": {
            "text/plain": [
              "LogisticRegression(C=1.0, class_weight=None, dual=False, fit_intercept=True,\n",
              "                   intercept_scaling=1, l1_ratio=None, max_iter=100,\n",
              "                   multi_class='auto', n_jobs=None, penalty='l2',\n",
              "                   random_state=None, solver='lbfgs', tol=0.0001, verbose=0,\n",
              "                   warm_start=False)"
            ]
          },
          "metadata": {
            "tags": []
          },
          "execution_count": 319
        },
        {
          "output_type": "stream",
          "text": [
            "\n",
            "For reference, LogisticRegression Accuracy: 0.804\n"
          ],
          "name": "stdout"
        }
      ]
    },
    {
      "cell_type": "code",
      "metadata": {
        "id": "9PC2f7hNpmoy",
        "colab_type": "code",
        "colab": {}
      },
      "source": [
        "def round_4(value):\n",
        "  return round(value, 4)\n",
        "\n",
        "def train_model(\n",
        "    model,\n",
        "    model_name=None,\n",
        "    x_train=scaled_x_train,\n",
        "    x_test=scaled_x_test,\n",
        "    y_train=y_train,\n",
        "    y_test=y_test,\n",
        "):\n",
        "    model.fit(x_train, y_train)\n",
        "    y_pred = model.predict(x_test)\n",
        "    accuracy = accuracy_score(y_test, y_pred)\n",
        "    precision = precision_score(y_test, y_pred, pos_label=\"unstable\")\n",
        "    recall = recall_score(y_test, y_pred, pos_label=\"unstable\")\n",
        "    f1 = f1_score(y_test, y_pred, pos_label=\"unstable\")\n",
        "    if not model_name:\n",
        "        model_name = model.__class__.__name__\n",
        "    return [model_name, round_4(accuracy), round_4(precision), round_4(recall), round_4(f1)]"
      ],
      "execution_count": 320,
      "outputs": []
    },
    {
      "cell_type": "code",
      "metadata": {
        "id": "3P-I2-vzuTSB",
        "colab_type": "code",
        "colab": {
          "base_uri": "https://localhost:8080/",
          "height": 173
        },
        "outputId": "0655442c-afc8-49e4-e372-5ce27bd7b5ce"
      },
      "source": [
        "RF = RandomForestClassifier(random_state=1)\n",
        "xgb = XGBClassifier(random_state=1)\n",
        "lgbm = LGBMClassifier(random_state=1)\n",
        "extra_tree = ExtraTreesClassifier(random_state=1)\n",
        "models = [RF, xgb, lgbm, extra_tree]\n",
        "\n",
        "metrics = []\n",
        "metrics_columns = ['Model', 'Accuracy', 'Precision', 'Recall', 'F1-score']\n",
        "for model in models:\n",
        "  metrics.append(train_model(model))\n",
        "\n",
        "pd.DataFrame(metrics, columns=metrics_columns)"
      ],
      "execution_count": 321,
      "outputs": [
        {
          "output_type": "execute_result",
          "data": {
            "text/html": [
              "<div>\n",
              "<style scoped>\n",
              "    .dataframe tbody tr th:only-of-type {\n",
              "        vertical-align: middle;\n",
              "    }\n",
              "\n",
              "    .dataframe tbody tr th {\n",
              "        vertical-align: top;\n",
              "    }\n",
              "\n",
              "    .dataframe thead th {\n",
              "        text-align: right;\n",
              "    }\n",
              "</style>\n",
              "<table border=\"1\" class=\"dataframe\">\n",
              "  <thead>\n",
              "    <tr style=\"text-align: right;\">\n",
              "      <th></th>\n",
              "      <th>Model</th>\n",
              "      <th>Accuracy</th>\n",
              "      <th>Precision</th>\n",
              "      <th>Recall</th>\n",
              "      <th>F1-score</th>\n",
              "    </tr>\n",
              "  </thead>\n",
              "  <tbody>\n",
              "    <tr>\n",
              "      <th>0</th>\n",
              "      <td>RandomForestClassifier</td>\n",
              "      <td>0.9290</td>\n",
              "      <td>0.9341</td>\n",
              "      <td>0.9573</td>\n",
              "      <td>0.9456</td>\n",
              "    </tr>\n",
              "    <tr>\n",
              "      <th>1</th>\n",
              "      <td>XGBClassifier</td>\n",
              "      <td>0.9195</td>\n",
              "      <td>0.9190</td>\n",
              "      <td>0.9596</td>\n",
              "      <td>0.9389</td>\n",
              "    </tr>\n",
              "    <tr>\n",
              "      <th>2</th>\n",
              "      <td>LGBMClassifier</td>\n",
              "      <td>0.9375</td>\n",
              "      <td>0.9415</td>\n",
              "      <td>0.9627</td>\n",
              "      <td>0.9520</td>\n",
              "    </tr>\n",
              "    <tr>\n",
              "      <th>3</th>\n",
              "      <td>ExtraTreesClassifier</td>\n",
              "      <td>0.9280</td>\n",
              "      <td>0.9218</td>\n",
              "      <td>0.9705</td>\n",
              "      <td>0.9455</td>\n",
              "    </tr>\n",
              "  </tbody>\n",
              "</table>\n",
              "</div>"
            ],
            "text/plain": [
              "                    Model  Accuracy  Precision  Recall  F1-score\n",
              "0  RandomForestClassifier    0.9290     0.9341  0.9573    0.9456\n",
              "1           XGBClassifier    0.9195     0.9190  0.9596    0.9389\n",
              "2          LGBMClassifier    0.9375     0.9415  0.9627    0.9520\n",
              "3    ExtraTreesClassifier    0.9280     0.9218  0.9705    0.9455"
            ]
          },
          "metadata": {
            "tags": []
          },
          "execution_count": 321
        }
      ]
    },
    {
      "cell_type": "code",
      "metadata": {
        "id": "urgt-Ha4wDiQ",
        "colab_type": "code",
        "colab": {}
      },
      "source": [
        "n_estimators = [50, 100, 300, 500, 1000]\n",
        "min_samples_split = [2, 3, 5, 7, 9]\n",
        "min_samples_leaf = [1, 2, 4, 6, 8]\n",
        "max_features = ['auto', 'sqrt', 'log2', None] \n",
        "hyperparameter_grid = {'n_estimators': n_estimators,\n",
        "                       'min_samples_leaf': min_samples_leaf,\n",
        "                       'min_samples_split': min_samples_split,\n",
        "                       'max_features': max_features}"
      ],
      "execution_count": 322,
      "outputs": []
    },
    {
      "cell_type": "code",
      "metadata": {
        "id": "yIr7HOmYbgLK",
        "colab_type": "code",
        "colab": {
          "base_uri": "https://localhost:8080/",
          "height": 85
        },
        "outputId": "65691fd3-dbcc-4ec1-ebbf-d504aca6d14b"
      },
      "source": [
        "# Best hyperparameters from the randomized search CV\n",
        "extra_tree_rscv.best_params_"
      ],
      "execution_count": 323,
      "outputs": [
        {
          "output_type": "execute_result",
          "data": {
            "text/plain": [
              "{'max_features': None,\n",
              " 'min_samples_leaf': 8,\n",
              " 'min_samples_split': 2,\n",
              " 'n_estimators': 1000}"
            ]
          },
          "metadata": {
            "tags": []
          },
          "execution_count": 323
        }
      ]
    },
    {
      "cell_type": "code",
      "metadata": {
        "id": "WjMRkXh_x9Xq",
        "colab_type": "code",
        "colab": {
          "base_uri": "https://localhost:8080/",
          "height": 80
        },
        "outputId": "a9a0306a-073b-4108-c855-61a646c79ee8"
      },
      "source": [
        "best_extra_tree = ExtraTreesClassifier(random_state=1,**extra_tree_rand_search.best_params_)\n",
        "pd.DataFrame([train_model(best_extra_tree,model_name='RandomizedSearchCV')], columns=metrics_columns)"
      ],
      "execution_count": 324,
      "outputs": [
        {
          "output_type": "execute_result",
          "data": {
            "text/html": [
              "<div>\n",
              "<style scoped>\n",
              "    .dataframe tbody tr th:only-of-type {\n",
              "        vertical-align: middle;\n",
              "    }\n",
              "\n",
              "    .dataframe tbody tr th {\n",
              "        vertical-align: top;\n",
              "    }\n",
              "\n",
              "    .dataframe thead th {\n",
              "        text-align: right;\n",
              "    }\n",
              "</style>\n",
              "<table border=\"1\" class=\"dataframe\">\n",
              "  <thead>\n",
              "    <tr style=\"text-align: right;\">\n",
              "      <th></th>\n",
              "      <th>Model</th>\n",
              "      <th>Accuracy</th>\n",
              "      <th>Precision</th>\n",
              "      <th>Recall</th>\n",
              "      <th>F1-score</th>\n",
              "    </tr>\n",
              "  </thead>\n",
              "  <tbody>\n",
              "    <tr>\n",
              "      <th>0</th>\n",
              "      <td>RandomizedSearchCV</td>\n",
              "      <td>0.927</td>\n",
              "      <td>0.93</td>\n",
              "      <td>0.9589</td>\n",
              "      <td>0.9442</td>\n",
              "    </tr>\n",
              "  </tbody>\n",
              "</table>\n",
              "</div>"
            ],
            "text/plain": [
              "                Model  Accuracy  Precision  Recall  F1-score\n",
              "0  RandomizedSearchCV     0.927       0.93  0.9589    0.9442"
            ]
          },
          "metadata": {
            "tags": []
          },
          "execution_count": 324
        }
      ]
    },
    {
      "cell_type": "code",
      "metadata": {
        "id": "IQX2Cse4uT2L",
        "colab_type": "code",
        "colab": {
          "base_uri": "https://localhost:8080/",
          "height": 80
        },
        "outputId": "d96b10bb-ff08-4fab-81d5-94062a496005"
      },
      "source": [
        "pd.DataFrame(\n",
        "    [train_model(extra_tree_rscv.best_estimator_, model_name=\"RandomizedSearchCV\")],\n",
        "    columns=metrics_columns)"
      ],
      "execution_count": 325,
      "outputs": [
        {
          "output_type": "execute_result",
          "data": {
            "text/html": [
              "<div>\n",
              "<style scoped>\n",
              "    .dataframe tbody tr th:only-of-type {\n",
              "        vertical-align: middle;\n",
              "    }\n",
              "\n",
              "    .dataframe tbody tr th {\n",
              "        vertical-align: top;\n",
              "    }\n",
              "\n",
              "    .dataframe thead th {\n",
              "        text-align: right;\n",
              "    }\n",
              "</style>\n",
              "<table border=\"1\" class=\"dataframe\">\n",
              "  <thead>\n",
              "    <tr style=\"text-align: right;\">\n",
              "      <th></th>\n",
              "      <th>Model</th>\n",
              "      <th>Accuracy</th>\n",
              "      <th>Precision</th>\n",
              "      <th>Recall</th>\n",
              "      <th>F1-score</th>\n",
              "    </tr>\n",
              "  </thead>\n",
              "  <tbody>\n",
              "    <tr>\n",
              "      <th>0</th>\n",
              "      <td>RandomizedSearchCV</td>\n",
              "      <td>0.927</td>\n",
              "      <td>0.93</td>\n",
              "      <td>0.9589</td>\n",
              "      <td>0.9442</td>\n",
              "    </tr>\n",
              "  </tbody>\n",
              "</table>\n",
              "</div>"
            ],
            "text/plain": [
              "                Model  Accuracy  Precision  Recall  F1-score\n",
              "0  RandomizedSearchCV     0.927       0.93  0.9589    0.9442"
            ]
          },
          "metadata": {
            "tags": []
          },
          "execution_count": 325
        }
      ]
    },
    {
      "cell_type": "code",
      "metadata": {
        "id": "9zvHP1B-zDiq",
        "colab_type": "code",
        "colab": {
          "base_uri": "https://localhost:8080/",
          "height": 68
        },
        "outputId": "9cd44313-5a25-4a7c-d973-b8aebe50c815"
      },
      "source": [
        "feature_importances = best_extra_tree.feature_importances_\n",
        "feature_importances"
      ],
      "execution_count": 326,
      "outputs": [
        {
          "output_type": "execute_result",
          "data": {
            "text/plain": [
              "array([0.13723975, 0.1405075 , 0.13468029, 0.13541676, 0.00368342,\n",
              "       0.00533686, 0.00542927, 0.00496249, 0.10256244, 0.10757765,\n",
              "       0.11306268, 0.10954089])"
            ]
          },
          "metadata": {
            "tags": []
          },
          "execution_count": 326
        }
      ]
    },
    {
      "cell_type": "code",
      "metadata": {
        "id": "wZWHoogzXPSU",
        "colab_type": "code",
        "colab": {
          "base_uri": "https://localhost:8080/",
          "height": 34
        },
        "outputId": "4a161d78-15b3-49ac-80e3-c1a749158664"
      },
      "source": [
        "arr = sorted(zip([round(i,3) for i in feature_importances[sorted_idx]] , scaled_x_train.columns[sorted_idx]),reverse=True)\n",
        "arr[0], arr[-1]"
      ],
      "execution_count": 327,
      "outputs": [
        {
          "output_type": "execute_result",
          "data": {
            "text/plain": [
              "((0.141, 'tau2'), (0.004, 'p1'))"
            ]
          },
          "metadata": {
            "tags": []
          },
          "execution_count": 327
        }
      ]
    },
    {
      "cell_type": "code",
      "metadata": {
        "id": "EZZOI5kvznIH",
        "colab_type": "code",
        "colab": {
          "base_uri": "https://localhost:8080/",
          "height": 336
        },
        "outputId": "f3d4f250-4482-4700-ec7e-88d11de813a1"
      },
      "source": [
        "# plt.barh(X.columns, 100.0 * (feature_importances / feature_importances.max()))\n",
        "plt.figure(figsize=(9, 5))\n",
        "plt.title(\"Feature Importance\")\n",
        "sorted_idx = np.argsort(feature_importances)\n",
        "pos = np.arange(sorted_idx.shape[0])\n",
        "plt.barh(pos, feature_importance[sorted_idx], align='center')\n",
        "plt.yticks(pos, X.columns[sorted_idx])\n",
        "plt.show();"
      ],
      "execution_count": 328,
      "outputs": [
        {
          "output_type": "display_data",
          "data": {
            "image/png": "[encoded data removed]",
            "text/plain": [
              "<Figure size 648x360 with 1 Axes>"
            ]
          },
          "metadata": {
            "tags": [],
            "needs_background": "light"
          }
        }
      ]
    },
    {
      "cell_type": "code",
      "metadata": {
        "id": "iSU5oDX3Kcwy",
        "colab_type": "code",
        "colab": {
          "base_uri": "https://localhost:8080/",
          "height": 34
        },
        "outputId": "a60ca325-ac46-4e0c-bce3-75a897cf78e4"
      },
      "source": [
        "tp = 355\n",
        "tn = 120\n",
        "fp = 1480\n",
        "fn = 45\n",
        "precision = tp / (tp + fp)\n",
        "recall= tp / (tp + fn)\n",
        "f1 =  (2 * precision * recall) / (precision + recall)\n",
        "\n",
        "round(f1, 4)"
      ],
      "execution_count": 329,
      "outputs": [
        {
          "output_type": "execute_result",
          "data": {
            "text/plain": [
              "0.3177"
            ]
          },
          "metadata": {
            "tags": []
          },
          "execution_count": 329
        }
      ]
    },
    {
      "cell_type": "code",
      "metadata": {
        "id": "6MUj6AxiNR9t",
        "colab_type": "code",
        "colab": {
          "base_uri": "https://localhost:8080/",
          "height": 85
        },
        "outputId": "ed6f77ac-be5b-46d2-c16d-37177703e014"
      },
      "source": [
        "def comp_recall():\n",
        "  return tp*100 / (tp + fn)\n",
        "\n",
        "def comp_fpr():\n",
        "  return fp*100 / (fp + tn)\n",
        "\n",
        "def comp_precision():\n",
        "  return tp*100 / (tp + fp)\n",
        "\n",
        "def comp_cost():\n",
        "  return 5 * fp + fn\n",
        "# 1\n",
        "tn = 98\n",
        "fp = 2\n",
        "fn = 18\n",
        "tp = 82\n",
        "print('1-', 'Recall:',comp_recall(), 'FPR:', comp_fpr(), 'Cost:', comp_cost())\n",
        "\n",
        "tn = 91\n",
        "fp = 9\n",
        "fn = 22\n",
        "tp = 78\n",
        "print('2-', 'Recall:',comp_recall(), 'FPR:', comp_fpr(), 'Cost:', comp_cost())\n",
        "\n",
        "tn = 96\n",
        "fp = 4\n",
        "fn = 10\n",
        "tp = 90\n",
        "print('3-', 'Recall:',comp_recall(), 'FPR:', comp_fpr(), 'Cost:', comp_cost())\n",
        "\n",
        "tn = 99\n",
        "fp = 1\n",
        "fn = 21\n",
        "tp = 79\n",
        "print('4-', 'Recall:',comp_recall(), 'FPR:', comp_fpr(), 'Cost:', comp_cost())"
      ],
      "execution_count": 330,
      "outputs": [
        {
          "output_type": "stream",
          "text": [
            "1- Recall: 82.0 FPR: 2.0 Cost: 28\n",
            "2- Recall: 78.0 FPR: 9.0 Cost: 67\n",
            "3- Recall: 90.0 FPR: 4.0 Cost: 30\n",
            "4- Recall: 79.0 FPR: 1.0 Cost: 26\n"
          ],
          "name": "stdout"
        }
      ]
    },
    {
      "cell_type": "code",
      "metadata": {
        "id": "N53nYHU8QY7u",
        "colab_type": "code",
        "colab": {}
      },
      "source": [
        ""
      ],
      "execution_count": 330,
      "outputs": []
    }
  ]
}