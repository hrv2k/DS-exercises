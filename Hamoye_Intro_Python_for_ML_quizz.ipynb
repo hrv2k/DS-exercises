{
  "nbformat": 4,
  "nbformat_minor": 0,
  "metadata": {
    "colab": {
      "name": "Hamoye_Intro_Python_for_ML_quizz.ipynb",
      "provenance": [],
      "authorship_tag": "ABX9TyO+qs/okns6Vn39/qxHvwvm",
      "include_colab_link": true
    },
    "kernelspec": {
      "name": "python3",
      "display_name": "Python 3"
    }
  },
  "cells": [
    {
      "cell_type": "markdown",
      "metadata": {
        "id": "view-in-github",
        "colab_type": "text"
      },
      "source": [
        "<a href=\"https://colab.research.google.com/github/kakiang/Hamoye-projects/blob/master/Hamoye_Intro_Python_for_ML_quizz.ipynb\" target=\"_parent\"><img src=\"https://colab.research.google.com/assets/colab-badge.svg\" alt=\"Open In Colab\"/></a>"
      ]
    },
    {
      "cell_type": "markdown",
      "metadata": {
        "id": "-LybEPvlixml",
        "colab_type": "text"
      },
      "source": [
        "# Hamoye_Intro_Python_for_ML_quizz"
      ]
    },
    {
      "cell_type": "code",
      "metadata": {
        "id": "D__zL940j_Xq",
        "colab_type": "code",
        "colab": {
          "base_uri": "https://localhost:8080/",
          "height": 34
        },
        "outputId": "9a849fb3-f91b-43d7-dea5-db5e31cc6dce"
      },
      "source": [
        "# 1. If you’re given two lists: A = [1,2,3,4,5,6], B = [13, 21, 34]\n",
        "# The task is to create a list with the elements of A and B in a single \n",
        "# dimension with output: A_B =  [1,2,3,4,5,6,13, 21, 34]\n",
        "\n",
        "A = [1,2,3,4,5,6]\n",
        "B = [13, 21, 34]\n",
        "A.extend(B)\n",
        "A"
      ],
      "execution_count": 7,
      "outputs": [
        {
          "output_type": "execute_result",
          "data": {
            "text/plain": [
              "[1, 2, 3, 4, 5, 6, 13, 21, 34]"
            ]
          },
          "metadata": {
            "tags": []
          },
          "execution_count": 7
        }
      ]
    },
    {
      "cell_type": "code",
      "metadata": {
        "id": "Umc9qg5GmvKa",
        "colab_type": "code",
        "colab": {
          "base_uri": "https://localhost:8080/",
          "height": 68
        },
        "outputId": "1e6a77db-c9aa-4f72-ce56-e2aa681dbe16"
      },
      "source": [
        "# 2. How do you create an identity matrix in python?\n",
        "np.identity(3)"
      ],
      "execution_count": 8,
      "outputs": [
        {
          "output_type": "execute_result",
          "data": {
            "text/plain": [
              "array([[1., 0., 0.],\n",
              "       [0., 1., 0.],\n",
              "       [0., 0., 1.]])"
            ]
          },
          "metadata": {
            "tags": []
          },
          "execution_count": 8
        }
      ]
    },
    {
      "cell_type": "code",
      "metadata": {
        "id": "Kno8iDprjFKz",
        "colab_type": "code",
        "colab": {
          "base_uri": "https://localhost:8080/",
          "height": 71
        },
        "outputId": "6f547901-7cef-4e5c-dfcd-06059a355f12"
      },
      "source": [
        "import pandas as pd\n",
        "import numpy as np\n",
        "import matplotlib.pyplot as plt\n",
        "import seaborn as sn"
      ],
      "execution_count": 1,
      "outputs": [
        {
          "output_type": "stream",
          "text": [
            "/usr/local/lib/python3.6/dist-packages/statsmodels/tools/_testing.py:19: FutureWarning: pandas.util.testing is deprecated. Use the functions in the public API at pandas.testing instead.\n",
            "  import pandas.util.testing as tm\n"
          ],
          "name": "stderr"
        }
      ]
    },
    {
      "cell_type": "code",
      "metadata": {
        "id": "oqdenEqGjyvp",
        "colab_type": "code",
        "colab": {}
      },
      "source": [
        "url = 'https://bit.ly/HDSC-StageOneDataset'\n",
        "df = pd.read_csv(url)"
      ],
      "execution_count": 2,
      "outputs": []
    },
    {
      "cell_type": "code",
      "metadata": {
        "id": "TSG-eutKj8I8",
        "colab_type": "code",
        "colab": {
          "base_uri": "https://localhost:8080/",
          "height": 224
        },
        "outputId": "759450cc-bfb6-4ec8-b394-50e771a42480"
      },
      "source": [
        "df.sample(5)"
      ],
      "execution_count": 3,
      "outputs": [
        {
          "output_type": "execute_result",
          "data": {
            "text/html": [
              "<div>\n",
              "<style scoped>\n",
              "    .dataframe tbody tr th:only-of-type {\n",
              "        vertical-align: middle;\n",
              "    }\n",
              "\n",
              "    .dataframe tbody tr th {\n",
              "        vertical-align: top;\n",
              "    }\n",
              "\n",
              "    .dataframe thead th {\n",
              "        text-align: right;\n",
              "    }\n",
              "</style>\n",
              "<table border=\"1\" class=\"dataframe\">\n",
              "  <thead>\n",
              "    <tr style=\"text-align: right;\">\n",
              "      <th></th>\n",
              "      <th>record_id</th>\n",
              "      <th>utility_id_ferc1</th>\n",
              "      <th>report_year</th>\n",
              "      <th>plant_name_ferc1</th>\n",
              "      <th>fuel_type_code_pudl</th>\n",
              "      <th>fuel_unit</th>\n",
              "      <th>fuel_qty_burned</th>\n",
              "      <th>fuel_mmbtu_per_unit</th>\n",
              "      <th>fuel_cost_per_unit_burned</th>\n",
              "      <th>fuel_cost_per_unit_delivered</th>\n",
              "      <th>fuel_cost_per_mmbtu</th>\n",
              "    </tr>\n",
              "  </thead>\n",
              "  <tbody>\n",
              "    <tr>\n",
              "      <th>7694</th>\n",
              "      <td>f1_fuel_2000_12_161_1_4</td>\n",
              "      <td>161</td>\n",
              "      <td>2000</td>\n",
              "      <td>high grove</td>\n",
              "      <td>gas</td>\n",
              "      <td>mcf</td>\n",
              "      <td>271703.0</td>\n",
              "      <td>1.015000</td>\n",
              "      <td>6.462</td>\n",
              "      <td>6.462</td>\n",
              "      <td>6.363</td>\n",
              "    </tr>\n",
              "    <tr>\n",
              "      <th>10416</th>\n",
              "      <td>f1_fuel_2002_12_194_4_13</td>\n",
              "      <td>194</td>\n",
              "      <td>2002</td>\n",
              "      <td>rock river units 5&amp;6</td>\n",
              "      <td>gas</td>\n",
              "      <td>mcf</td>\n",
              "      <td>674553.0</td>\n",
              "      <td>0.997763</td>\n",
              "      <td>4.040</td>\n",
              "      <td>4.040</td>\n",
              "      <td>4.051</td>\n",
              "    </tr>\n",
              "    <tr>\n",
              "      <th>5114</th>\n",
              "      <td>f1_fuel_1998_12_176_0_1</td>\n",
              "      <td>176</td>\n",
              "      <td>1998</td>\n",
              "      <td>irvington</td>\n",
              "      <td>coal</td>\n",
              "      <td>ton</td>\n",
              "      <td>198508.0</td>\n",
              "      <td>21.742000</td>\n",
              "      <td>54.661</td>\n",
              "      <td>54.661</td>\n",
              "      <td>2.514</td>\n",
              "    </tr>\n",
              "    <tr>\n",
              "      <th>16711</th>\n",
              "      <td>f1_fuel_2007_12_159_0_6</td>\n",
              "      <td>159</td>\n",
              "      <td>2007</td>\n",
              "      <td>urquhart</td>\n",
              "      <td>oil</td>\n",
              "      <td>bbl</td>\n",
              "      <td>87.0</td>\n",
              "      <td>5.873322</td>\n",
              "      <td>85.093</td>\n",
              "      <td>79.683</td>\n",
              "      <td>14.488</td>\n",
              "    </tr>\n",
              "    <tr>\n",
              "      <th>28650</th>\n",
              "      <td>f1_fuel_2018_12_176_1_11</td>\n",
              "      <td>176</td>\n",
              "      <td>2018</td>\n",
              "      <td>luna</td>\n",
              "      <td>gas</td>\n",
              "      <td>mcf</td>\n",
              "      <td>7914956.0</td>\n",
              "      <td>1.023000</td>\n",
              "      <td>2.200</td>\n",
              "      <td>2.200</td>\n",
              "      <td>2.151</td>\n",
              "    </tr>\n",
              "  </tbody>\n",
              "</table>\n",
              "</div>"
            ],
            "text/plain": [
              "                      record_id  ...  fuel_cost_per_mmbtu\n",
              "7694    f1_fuel_2000_12_161_1_4  ...                6.363\n",
              "10416  f1_fuel_2002_12_194_4_13  ...                4.051\n",
              "5114    f1_fuel_1998_12_176_0_1  ...                2.514\n",
              "16711   f1_fuel_2007_12_159_0_6  ...               14.488\n",
              "28650  f1_fuel_2018_12_176_1_11  ...                2.151\n",
              "\n",
              "[5 rows x 11 columns]"
            ]
          },
          "metadata": {
            "tags": []
          },
          "execution_count": 3
        }
      ]
    },
    {
      "cell_type": "code",
      "metadata": {
        "id": "zsFg_0LGoNeP",
        "colab_type": "code",
        "colab": {
          "base_uri": "https://localhost:8080/",
          "height": 221
        },
        "outputId": "379cc820-1495-443b-a0f2-7e64fa9d4611"
      },
      "source": [
        "df.dtypes"
      ],
      "execution_count": 14,
      "outputs": [
        {
          "output_type": "execute_result",
          "data": {
            "text/plain": [
              "record_id                        object\n",
              "utility_id_ferc1                  int64\n",
              "report_year                       int64\n",
              "plant_name_ferc1                 object\n",
              "fuel_type_code_pudl              object\n",
              "fuel_unit                        object\n",
              "fuel_qty_burned                 float64\n",
              "fuel_mmbtu_per_unit             float64\n",
              "fuel_cost_per_unit_burned       float64\n",
              "fuel_cost_per_unit_delivered    float64\n",
              "fuel_cost_per_mmbtu             float64\n",
              "dtype: object"
            ]
          },
          "metadata": {
            "tags": []
          },
          "execution_count": 14
        }
      ]
    },
    {
      "cell_type": "code",
      "metadata": {
        "id": "3GdfM9g5oRO9",
        "colab_type": "code",
        "colab": {
          "base_uri": "https://localhost:8080/",
          "height": 34
        },
        "outputId": "025fed47-fb31-4738-e51b-f4724c5aedd2"
      },
      "source": [
        "df.shape"
      ],
      "execution_count": 15,
      "outputs": [
        {
          "output_type": "execute_result",
          "data": {
            "text/plain": [
              "(29523, 11)"
            ]
          },
          "metadata": {
            "tags": []
          },
          "execution_count": 15
        }
      ]
    },
    {
      "cell_type": "code",
      "metadata": {
        "id": "Lm8b3xqjmaCG",
        "colab_type": "code",
        "colab": {
          "base_uri": "https://localhost:8080/",
          "height": 171
        },
        "outputId": "335f49fd-e9bb-4629-a0fb-e6ffd5eaf8ec"
      },
      "source": [
        "# 3. Which of the following fuel type code has the lowest average fuel cost per unit burned?\n",
        "df_avg_fuel_cost_burned_per_type = df.groupby('fuel_type_code_pudl')['fuel_cost_per_unit_burned'].mean().sort_values(ascending=True)\n",
        "print(df_avg_fuel_cost_burned_per_type)"
      ],
      "execution_count": 23,
      "outputs": [
        {
          "output_type": "stream",
          "text": [
            "fuel_type_code_pudl\n",
            "gas          13.659397\n",
            "other        18.253856\n",
            "waste        19.518122\n",
            "coal         67.421830\n",
            "oil         168.877086\n",
            "nuclear    4955.157002\n",
            "Name: fuel_cost_per_unit_burned, dtype: float64\n"
          ],
          "name": "stdout"
        },
        {
          "output_type": "execute_result",
          "data": {
            "application/vnd.google.colaboratory.intrinsic": {
              "type": "string"
            },
            "text/plain": [
              "'gas'"
            ]
          },
          "metadata": {
            "tags": []
          },
          "execution_count": 23
        }
      ]
    },
    {
      "cell_type": "code",
      "metadata": {
        "id": "mKDKEMgWnNdf",
        "colab_type": "code",
        "colab": {
          "base_uri": "https://localhost:8080/",
          "height": 35
        },
        "outputId": "82a4791d-bc08-426d-9196-ef25d69cb46b"
      },
      "source": [
        "df_avg_fuel_cost_burned_per_type.index[0]"
      ],
      "execution_count": 24,
      "outputs": [
        {
          "output_type": "execute_result",
          "data": {
            "application/vnd.google.colaboratory.intrinsic": {
              "type": "string"
            },
            "text/plain": [
              "'gas'"
            ]
          },
          "metadata": {
            "tags": []
          },
          "execution_count": 24
        }
      ]
    },
    {
      "cell_type": "code",
      "metadata": {
        "id": "SbTIg_6QnneQ",
        "colab_type": "code",
        "colab": {
          "base_uri": "https://localhost:8080/",
          "height": 170
        },
        "outputId": "5c4f3809-96bc-4789-eec5-c5e913c8e4e9"
      },
      "source": [
        "# 4. What is the standard deviation and 75th percentile of the measure of energy\n",
        "# per unit (Fuel_mmbtu_per_unit) in two decimal places?\n",
        "df.fuel_mmbtu_per_unit.describe().round(2)"
      ],
      "execution_count": 18,
      "outputs": [
        {
          "output_type": "execute_result",
          "data": {
            "text/plain": [
              "count    29523.00\n",
              "mean         8.49\n",
              "std         10.60\n",
              "min          0.00\n",
              "25%          1.02\n",
              "50%          5.76\n",
              "75%         17.01\n",
              "max        341.26\n",
              "Name: fuel_mmbtu_per_unit, dtype: float64"
            ]
          },
          "metadata": {
            "tags": []
          },
          "execution_count": 18
        }
      ]
    },
    {
      "cell_type": "code",
      "metadata": {
        "id": "CxkXiKF0oz3T",
        "colab_type": "code",
        "colab": {
          "base_uri": "https://localhost:8080/",
          "height": 34
        },
        "outputId": "21df01e1-bc79-42e1-f4c3-5a86e7a61fc2"
      },
      "source": [
        "# 5. What is the skewness and kurtosis for the fuel quantity burned in two decimal places?\n",
        "df.fuel_qty_burned.skew().round(2)"
      ],
      "execution_count": 19,
      "outputs": [
        {
          "output_type": "execute_result",
          "data": {
            "text/plain": [
              "15.85"
            ]
          },
          "metadata": {
            "tags": []
          },
          "execution_count": 19
        }
      ]
    },
    {
      "cell_type": "code",
      "metadata": {
        "id": "uRiGqVvQpIpS",
        "colab_type": "code",
        "colab": {
          "base_uri": "https://localhost:8080/",
          "height": 34
        },
        "outputId": "9950ac5c-3fb7-4272-d0db-dd757267ef5a"
      },
      "source": [
        "df.fuel_qty_burned.kurt().round(2)"
      ],
      "execution_count": 20,
      "outputs": [
        {
          "output_type": "execute_result",
          "data": {
            "text/plain": [
              "651.37"
            ]
          },
          "metadata": {
            "tags": []
          },
          "execution_count": 20
        }
      ]
    },
    {
      "cell_type": "code",
      "metadata": {
        "id": "qKEuKsgQpJ5c",
        "colab_type": "code",
        "colab": {
          "base_uri": "https://localhost:8080/",
          "height": 221
        },
        "outputId": "fee307ee-c6de-4a53-ffcc-740e6ef789cc"
      },
      "source": [
        "# 6. Which feature has missing values and what is the total number of missing value\n",
        "# and percentage of the missing rows as a factor of the total number of rows in \n",
        "# three decimal places? \n",
        "# (Enter answer in the format: Feature: xxx, Total: xxx, Percent: xxx)\n",
        "missing_val_per_col = df.isna().sum()\n",
        "missing_val_per_col"
      ],
      "execution_count": 25,
      "outputs": [
        {
          "output_type": "execute_result",
          "data": {
            "text/plain": [
              "record_id                         0\n",
              "utility_id_ferc1                  0\n",
              "report_year                       0\n",
              "plant_name_ferc1                  0\n",
              "fuel_type_code_pudl               0\n",
              "fuel_unit                       180\n",
              "fuel_qty_burned                   0\n",
              "fuel_mmbtu_per_unit               0\n",
              "fuel_cost_per_unit_burned         0\n",
              "fuel_cost_per_unit_delivered      0\n",
              "fuel_cost_per_mmbtu               0\n",
              "dtype: int64"
            ]
          },
          "metadata": {
            "tags": []
          },
          "execution_count": 25
        }
      ]
    },
    {
      "cell_type": "code",
      "metadata": {
        "id": "yNCFhPEnpe11",
        "colab_type": "code",
        "colab": {
          "base_uri": "https://localhost:8080/",
          "height": 51
        },
        "outputId": "6c883691-1d5c-4239-9396-f79cbe3beaed"
      },
      "source": [
        "(missing_val_per_col[missing_val_per_col!=0] / df.shape[0] * 100).round(3)"
      ],
      "execution_count": 31,
      "outputs": [
        {
          "output_type": "execute_result",
          "data": {
            "text/plain": [
              "fuel_unit    0.61\n",
              "dtype: float64"
            ]
          },
          "metadata": {
            "tags": []
          },
          "execution_count": 31
        }
      ]
    },
    {
      "cell_type": "code",
      "metadata": {
        "id": "MhsaoASVqApz",
        "colab_type": "code",
        "colab": {
          "base_uri": "https://localhost:8080/",
          "height": 34
        },
        "outputId": "d560c73d-2b20-4cdd-836b-9dcad6fe4a31"
      },
      "source": [
        "# 7. The feature with missing values falls under what category? \n",
        "# What missing value imputation technique would you use?\n",
        "df.fuel_unit.dtype"
      ],
      "execution_count": 33,
      "outputs": [
        {
          "output_type": "execute_result",
          "data": {
            "text/plain": [
              "dtype('O')"
            ]
          },
          "metadata": {
            "tags": []
          },
          "execution_count": 33
        }
      ]
    },
    {
      "cell_type": "code",
      "metadata": {
        "id": "y-UgpPU8rTkj",
        "colab_type": "code",
        "colab": {
          "base_uri": "https://localhost:8080/",
          "height": 266
        },
        "outputId": "d8b11396-28ce-4c3b-aae4-fd6e7a4f7471"
      },
      "source": [
        "# 8. Which of the features has the second and third lowest correlation with the Fuel Cost Per Unit Burned?\n",
        "df.corr().sort_values(['fuel_cost_per_unit_burned'], ascending=True)[['fuel_cost_per_unit_burned']].round()"
      ],
      "execution_count": 35,
      "outputs": [
        {
          "output_type": "execute_result",
          "data": {
            "text/html": [
              "<div>\n",
              "<style scoped>\n",
              "    .dataframe tbody tr th:only-of-type {\n",
              "        vertical-align: middle;\n",
              "    }\n",
              "\n",
              "    .dataframe tbody tr th {\n",
              "        vertical-align: top;\n",
              "    }\n",
              "\n",
              "    .dataframe thead th {\n",
              "        text-align: right;\n",
              "    }\n",
              "</style>\n",
              "<table border=\"1\" class=\"dataframe\">\n",
              "  <thead>\n",
              "    <tr style=\"text-align: right;\">\n",
              "      <th></th>\n",
              "      <th>fuel_cost_per_unit_burned</th>\n",
              "    </tr>\n",
              "  </thead>\n",
              "  <tbody>\n",
              "    <tr>\n",
              "      <th>utility_id_ferc1</th>\n",
              "      <td>-0.0</td>\n",
              "    </tr>\n",
              "    <tr>\n",
              "      <th>fuel_qty_burned</th>\n",
              "      <td>-0.0</td>\n",
              "    </tr>\n",
              "    <tr>\n",
              "      <th>fuel_mmbtu_per_unit</th>\n",
              "      <td>-0.0</td>\n",
              "    </tr>\n",
              "    <tr>\n",
              "      <th>fuel_cost_per_mmbtu</th>\n",
              "      <td>-0.0</td>\n",
              "    </tr>\n",
              "    <tr>\n",
              "      <th>fuel_cost_per_unit_delivered</th>\n",
              "      <td>0.0</td>\n",
              "    </tr>\n",
              "    <tr>\n",
              "      <th>report_year</th>\n",
              "      <td>0.0</td>\n",
              "    </tr>\n",
              "    <tr>\n",
              "      <th>fuel_cost_per_unit_burned</th>\n",
              "      <td>1.0</td>\n",
              "    </tr>\n",
              "  </tbody>\n",
              "</table>\n",
              "</div>"
            ],
            "text/plain": [
              "                              fuel_cost_per_unit_burned\n",
              "utility_id_ferc1                                   -0.0\n",
              "fuel_qty_burned                                    -0.0\n",
              "fuel_mmbtu_per_unit                                -0.0\n",
              "fuel_cost_per_mmbtu                                -0.0\n",
              "fuel_cost_per_unit_delivered                        0.0\n",
              "report_year                                         0.0\n",
              "fuel_cost_per_unit_burned                           1.0"
            ]
          },
          "metadata": {
            "tags": []
          },
          "execution_count": 35
        }
      ]
    },
    {
      "cell_type": "code",
      "metadata": {
        "id": "O0AahpRcry6i",
        "colab_type": "code",
        "colab": {
          "base_uri": "https://localhost:8080/",
          "height": 142
        },
        "outputId": "3ff5a922-cd01-452f-f3b8-29eca2dfad7e"
      },
      "source": [
        "# 9. For the fuel type coal, what is the percentage change in the fuel cost per \n",
        "# unit burned in 1998 compared to 1994?\n",
        "df_coal = df[df['fuel_type_code_pudl'] == 'coal']\n",
        "df_coal_by_year = df_coal.groupby('report_year').sum()\n",
        "(df_coal_by_year[df_coal_by_year.index.isin([1994, 1998])].pct_change() * 100).round(0) "
      ],
      "execution_count": 36,
      "outputs": [
        {
          "output_type": "execute_result",
          "data": {
            "text/html": [
              "<div>\n",
              "<style scoped>\n",
              "    .dataframe tbody tr th:only-of-type {\n",
              "        vertical-align: middle;\n",
              "    }\n",
              "\n",
              "    .dataframe tbody tr th {\n",
              "        vertical-align: top;\n",
              "    }\n",
              "\n",
              "    .dataframe thead th {\n",
              "        text-align: right;\n",
              "    }\n",
              "</style>\n",
              "<table border=\"1\" class=\"dataframe\">\n",
              "  <thead>\n",
              "    <tr style=\"text-align: right;\">\n",
              "      <th></th>\n",
              "      <th>utility_id_ferc1</th>\n",
              "      <th>fuel_qty_burned</th>\n",
              "      <th>fuel_mmbtu_per_unit</th>\n",
              "      <th>fuel_cost_per_unit_burned</th>\n",
              "      <th>fuel_cost_per_unit_delivered</th>\n",
              "      <th>fuel_cost_per_mmbtu</th>\n",
              "    </tr>\n",
              "    <tr>\n",
              "      <th>report_year</th>\n",
              "      <th></th>\n",
              "      <th></th>\n",
              "      <th></th>\n",
              "      <th></th>\n",
              "      <th></th>\n",
              "      <th></th>\n",
              "    </tr>\n",
              "  </thead>\n",
              "  <tbody>\n",
              "    <tr>\n",
              "      <th>1994</th>\n",
              "      <td>NaN</td>\n",
              "      <td>NaN</td>\n",
              "      <td>NaN</td>\n",
              "      <td>NaN</td>\n",
              "      <td>NaN</td>\n",
              "      <td>NaN</td>\n",
              "    </tr>\n",
              "    <tr>\n",
              "      <th>1998</th>\n",
              "      <td>-8.0</td>\n",
              "      <td>25.0</td>\n",
              "      <td>-10.0</td>\n",
              "      <td>-21.0</td>\n",
              "      <td>421.0</td>\n",
              "      <td>-18.0</td>\n",
              "    </tr>\n",
              "  </tbody>\n",
              "</table>\n",
              "</div>"
            ],
            "text/plain": [
              "             utility_id_ferc1  ...  fuel_cost_per_mmbtu\n",
              "report_year                    ...                     \n",
              "1994                      NaN  ...                  NaN\n",
              "1998                     -8.0  ...                -18.0\n",
              "\n",
              "[2 rows x 6 columns]"
            ]
          },
          "metadata": {
            "tags": []
          },
          "execution_count": 36
        }
      ]
    },
    {
      "cell_type": "code",
      "metadata": {
        "id": "zcn2qbnlr-GG",
        "colab_type": "code",
        "colab": {
          "base_uri": "https://localhost:8080/",
          "height": 476
        },
        "outputId": "62261585-8426-475d-ba68-7b1f5851db46"
      },
      "source": [
        "# 10. Which year has the highest average fuel cost per unit delivered?\n",
        "df.groupby('report_year').mean()['fuel_cost_per_unit_delivered'].sort_values(ascending=False)"
      ],
      "execution_count": 37,
      "outputs": [
        {
          "output_type": "execute_result",
          "data": {
            "text/plain": [
              "report_year\n",
              "1997    11140.197239\n",
              "1996     9196.705948\n",
              "2000      985.362877\n",
              "2009      652.694163\n",
              "2018      499.269966\n",
              "2015      326.535511\n",
              "1998      287.154420\n",
              "2014      192.737183\n",
              "2013      172.307591\n",
              "2004      139.524275\n",
              "2016      103.901761\n",
              "2010       91.862105\n",
              "1994       63.636060\n",
              "2012       60.994502\n",
              "2001       60.050396\n",
              "2011       59.774667\n",
              "2008       58.588197\n",
              "2003       55.663493\n",
              "2002       47.594361\n",
              "2017       46.196861\n",
              "2007       43.325023\n",
              "2005       41.438184\n",
              "2006       38.657484\n",
              "1995       32.735269\n",
              "1999       25.551627\n",
              "Name: fuel_cost_per_unit_delivered, dtype: float64"
            ]
          },
          "metadata": {
            "tags": []
          },
          "execution_count": 37
        }
      ]
    },
    {
      "cell_type": "code",
      "metadata": {
        "id": "zTgjH8F0sHgz",
        "colab_type": "code",
        "colab": {}
      },
      "source": [
        ""
      ],
      "execution_count": null,
      "outputs": []
    }
  ]
}