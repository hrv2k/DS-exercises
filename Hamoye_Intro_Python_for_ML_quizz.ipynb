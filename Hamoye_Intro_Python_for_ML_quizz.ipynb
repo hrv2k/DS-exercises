{
  "nbformat": 4,
  "nbformat_minor": 0,
  "metadata": {
    "colab": {
      "name": "Hamoye_Intro_Python_for_ML_quizz.ipynb",
      "provenance": [],
      "authorship_tag": "ABX9TyPyt0X6VfqTlRiWcL48/CAc",
      "include_colab_link": true
    },
    "kernelspec": {
      "name": "python3",
      "display_name": "Python 3"
    }
  },
  "cells": [
    {
      "cell_type": "markdown",
      "metadata": {
        "id": "view-in-github",
        "colab_type": "text"
      },
      "source": [
        "<a href=\"https://colab.research.google.com/github/kakiang/Hamoye-projects/blob/master/Hamoye_Intro_Python_for_ML_quizz.ipynb\" target=\"_parent\"><img src=\"https://colab.research.google.com/assets/colab-badge.svg\" alt=\"Open In Colab\"/></a>"
      ]
    },
    {
      "cell_type": "markdown",
      "metadata": {
        "id": "-LybEPvlixml",
        "colab_type": "text"
      },
      "source": [
        "# Hamoye_Intro_Python_for_ML_quizz"
      ]
    },
    {
      "cell_type": "code",
      "metadata": {
        "id": "ck5ZPv0LWYyM",
        "colab_type": "code",
        "colab": {
          "base_uri": "https://localhost:8080/",
          "height": 71
        },
        "outputId": "51164d60-14de-44df-ecb0-618aedc76c23"
      },
      "source": [
        "import pandas as pd\n",
        "import numpy as np\n",
        "import matplotlib.pyplot as plt\n",
        "import seaborn as sn"
      ],
      "execution_count": 4,
      "outputs": [
        {
          "output_type": "stream",
          "text": [
            "/usr/local/lib/python3.6/dist-packages/statsmodels/tools/_testing.py:19: FutureWarning: pandas.util.testing is deprecated. Use the functions in the public API at pandas.testing instead.\n",
            "  import pandas.util.testing as tm\n"
          ],
          "name": "stderr"
        }
      ]
    },
    {
      "cell_type": "code",
      "metadata": {
        "id": "D__zL940j_Xq",
        "colab_type": "code",
        "colab": {
          "base_uri": "https://localhost:8080/",
          "height": 34
        },
        "outputId": "60cd52dd-6de3-4471-dc36-6e712a0cb909"
      },
      "source": [
        "# 1. If you’re given two lists: A = [1,2,3,4,5,6], B = [13, 21, 34]\n",
        "# The task is to create a list with the elements of A and B in a single \n",
        "# dimension with output: A_B =  [1,2,3,4,5,6,13, 21, 34]\n",
        "\n",
        "A = [1,2,3,4,5,6]\n",
        "B = [13, 21, 34]\n",
        "A.extend(B)\n",
        "A"
      ],
      "execution_count": 5,
      "outputs": [
        {
          "output_type": "execute_result",
          "data": {
            "text/plain": [
              "[1, 2, 3, 4, 5, 6, 13, 21, 34]"
            ]
          },
          "metadata": {
            "tags": []
          },
          "execution_count": 5
        }
      ]
    },
    {
      "cell_type": "code",
      "metadata": {
        "id": "Umc9qg5GmvKa",
        "colab_type": "code",
        "colab": {
          "base_uri": "https://localhost:8080/",
          "height": 68
        },
        "outputId": "6fcd4eee-0ee7-4ade-b249-911432e0e75e"
      },
      "source": [
        "# 2. How do you create an identity matrix in python?\n",
        "np.identity(3)"
      ],
      "execution_count": 6,
      "outputs": [
        {
          "output_type": "execute_result",
          "data": {
            "text/plain": [
              "array([[1., 0., 0.],\n",
              "       [0., 1., 0.],\n",
              "       [0., 0., 1.]])"
            ]
          },
          "metadata": {
            "tags": []
          },
          "execution_count": 6
        }
      ]
    },
    {
      "cell_type": "code",
      "metadata": {
        "id": "oqdenEqGjyvp",
        "colab_type": "code",
        "colab": {}
      },
      "source": [
        "url = 'https://bit.ly/HDSC-StageOneDataset'\n",
        "df = pd.read_csv(url)"
      ],
      "execution_count": 7,
      "outputs": []
    },
    {
      "cell_type": "code",
      "metadata": {
        "id": "TSG-eutKj8I8",
        "colab_type": "code",
        "colab": {
          "base_uri": "https://localhost:8080/",
          "height": 224
        },
        "outputId": "03392140-b321-49bd-c96a-e97a28951d2f"
      },
      "source": [
        "df.sample(5)"
      ],
      "execution_count": 8,
      "outputs": [
        {
          "output_type": "execute_result",
          "data": {
            "text/html": [
              "<div>\n",
              "<style scoped>\n",
              "    .dataframe tbody tr th:only-of-type {\n",
              "        vertical-align: middle;\n",
              "    }\n",
              "\n",
              "    .dataframe tbody tr th {\n",
              "        vertical-align: top;\n",
              "    }\n",
              "\n",
              "    .dataframe thead th {\n",
              "        text-align: right;\n",
              "    }\n",
              "</style>\n",
              "<table border=\"1\" class=\"dataframe\">\n",
              "  <thead>\n",
              "    <tr style=\"text-align: right;\">\n",
              "      <th></th>\n",
              "      <th>record_id</th>\n",
              "      <th>utility_id_ferc1</th>\n",
              "      <th>report_year</th>\n",
              "      <th>plant_name_ferc1</th>\n",
              "      <th>fuel_type_code_pudl</th>\n",
              "      <th>fuel_unit</th>\n",
              "      <th>fuel_qty_burned</th>\n",
              "      <th>fuel_mmbtu_per_unit</th>\n",
              "      <th>fuel_cost_per_unit_burned</th>\n",
              "      <th>fuel_cost_per_unit_delivered</th>\n",
              "      <th>fuel_cost_per_mmbtu</th>\n",
              "    </tr>\n",
              "  </thead>\n",
              "  <tbody>\n",
              "    <tr>\n",
              "      <th>1767</th>\n",
              "      <td>f1_fuel_1995_12_143_0_13</td>\n",
              "      <td>143</td>\n",
              "      <td>1995</td>\n",
              "      <td>potomac river</td>\n",
              "      <td>coal</td>\n",
              "      <td>ton</td>\n",
              "      <td>808301.0</td>\n",
              "      <td>26.072000</td>\n",
              "      <td>45.500</td>\n",
              "      <td>42.096</td>\n",
              "      <td>1.745</td>\n",
              "    </tr>\n",
              "    <tr>\n",
              "      <th>22261</th>\n",
              "      <td>f1_fuel_2012_12_12_0_14</td>\n",
              "      <td>12</td>\n",
              "      <td>2012</td>\n",
              "      <td>neil simpson unit 2</td>\n",
              "      <td>coal</td>\n",
              "      <td>ton</td>\n",
              "      <td>432375.0</td>\n",
              "      <td>16.002000</td>\n",
              "      <td>16.060</td>\n",
              "      <td>15.400</td>\n",
              "      <td>1.000</td>\n",
              "    </tr>\n",
              "    <tr>\n",
              "      <th>23501</th>\n",
              "      <td>f1_fuel_2013_12_45_3_7</td>\n",
              "      <td>45</td>\n",
              "      <td>2013</td>\n",
              "      <td>mill creek</td>\n",
              "      <td>gas</td>\n",
              "      <td>mcf</td>\n",
              "      <td>531447.0</td>\n",
              "      <td>1.017000</td>\n",
              "      <td>4.359</td>\n",
              "      <td>4.359</td>\n",
              "      <td>4.322</td>\n",
              "    </tr>\n",
              "    <tr>\n",
              "      <th>23343</th>\n",
              "      <td>f1_fuel_2013_12_6_1_5</td>\n",
              "      <td>6</td>\n",
              "      <td>2013</td>\n",
              "      <td>philip sporn - apco</td>\n",
              "      <td>oil</td>\n",
              "      <td>bbl</td>\n",
              "      <td>5353.0</td>\n",
              "      <td>5.747826</td>\n",
              "      <td>134.648</td>\n",
              "      <td>136.697</td>\n",
              "      <td>23.426</td>\n",
              "    </tr>\n",
              "    <tr>\n",
              "      <th>6240</th>\n",
              "      <td>f1_fuel_1999_12_57_2_1</td>\n",
              "      <td>57</td>\n",
              "      <td>1999</td>\n",
              "      <td>yates</td>\n",
              "      <td>coal</td>\n",
              "      <td>ton</td>\n",
              "      <td>2100165.0</td>\n",
              "      <td>25.634000</td>\n",
              "      <td>38.380</td>\n",
              "      <td>38.380</td>\n",
              "      <td>1.500</td>\n",
              "    </tr>\n",
              "  </tbody>\n",
              "</table>\n",
              "</div>"
            ],
            "text/plain": [
              "                      record_id  ...  fuel_cost_per_mmbtu\n",
              "1767   f1_fuel_1995_12_143_0_13  ...                1.745\n",
              "22261   f1_fuel_2012_12_12_0_14  ...                1.000\n",
              "23501    f1_fuel_2013_12_45_3_7  ...                4.322\n",
              "23343     f1_fuel_2013_12_6_1_5  ...               23.426\n",
              "6240     f1_fuel_1999_12_57_2_1  ...                1.500\n",
              "\n",
              "[5 rows x 11 columns]"
            ]
          },
          "metadata": {
            "tags": []
          },
          "execution_count": 8
        }
      ]
    },
    {
      "cell_type": "code",
      "metadata": {
        "id": "zsFg_0LGoNeP",
        "colab_type": "code",
        "colab": {
          "base_uri": "https://localhost:8080/",
          "height": 221
        },
        "outputId": "ca4b198b-f509-40f5-8599-a8c87ef47992"
      },
      "source": [
        "df.dtypes"
      ],
      "execution_count": 9,
      "outputs": [
        {
          "output_type": "execute_result",
          "data": {
            "text/plain": [
              "record_id                        object\n",
              "utility_id_ferc1                  int64\n",
              "report_year                       int64\n",
              "plant_name_ferc1                 object\n",
              "fuel_type_code_pudl              object\n",
              "fuel_unit                        object\n",
              "fuel_qty_burned                 float64\n",
              "fuel_mmbtu_per_unit             float64\n",
              "fuel_cost_per_unit_burned       float64\n",
              "fuel_cost_per_unit_delivered    float64\n",
              "fuel_cost_per_mmbtu             float64\n",
              "dtype: object"
            ]
          },
          "metadata": {
            "tags": []
          },
          "execution_count": 9
        }
      ]
    },
    {
      "cell_type": "code",
      "metadata": {
        "id": "3GdfM9g5oRO9",
        "colab_type": "code",
        "colab": {
          "base_uri": "https://localhost:8080/",
          "height": 34
        },
        "outputId": "fea8cdc8-7c45-4461-f80b-b71776090677"
      },
      "source": [
        "df.shape"
      ],
      "execution_count": 10,
      "outputs": [
        {
          "output_type": "execute_result",
          "data": {
            "text/plain": [
              "(29523, 11)"
            ]
          },
          "metadata": {
            "tags": []
          },
          "execution_count": 10
        }
      ]
    },
    {
      "cell_type": "code",
      "metadata": {
        "id": "Lm8b3xqjmaCG",
        "colab_type": "code",
        "colab": {
          "base_uri": "https://localhost:8080/",
          "height": 153
        },
        "outputId": "2ff62536-6772-4155-c375-f8f3cc0b7fec"
      },
      "source": [
        "# 3. Which of the following fuel type code has the lowest average fuel cost per unit burned?\n",
        "df_avg_fuel_cost_burned_per_type = df.groupby('fuel_type_code_pudl')['fuel_cost_per_unit_burned'].mean().sort_values(ascending=True)\n",
        "print(df_avg_fuel_cost_burned_per_type)"
      ],
      "execution_count": 11,
      "outputs": [
        {
          "output_type": "stream",
          "text": [
            "fuel_type_code_pudl\n",
            "gas          13.659397\n",
            "other        18.253856\n",
            "waste        19.518122\n",
            "coal         67.421830\n",
            "oil         168.877086\n",
            "nuclear    4955.157002\n",
            "Name: fuel_cost_per_unit_burned, dtype: float64\n"
          ],
          "name": "stdout"
        }
      ]
    },
    {
      "cell_type": "code",
      "metadata": {
        "id": "mKDKEMgWnNdf",
        "colab_type": "code",
        "colab": {
          "base_uri": "https://localhost:8080/",
          "height": 35
        },
        "outputId": "a4542e3c-6f4d-4cf0-e7ab-6956f3612e98"
      },
      "source": [
        "df_avg_fuel_cost_burned_per_type.index[0]"
      ],
      "execution_count": 12,
      "outputs": [
        {
          "output_type": "execute_result",
          "data": {
            "application/vnd.google.colaboratory.intrinsic": {
              "type": "string"
            },
            "text/plain": [
              "'gas'"
            ]
          },
          "metadata": {
            "tags": []
          },
          "execution_count": 12
        }
      ]
    },
    {
      "cell_type": "code",
      "metadata": {
        "id": "SbTIg_6QnneQ",
        "colab_type": "code",
        "colab": {
          "base_uri": "https://localhost:8080/",
          "height": 170
        },
        "outputId": "2f704fd7-1986-46f8-b925-23f1a3d55afb"
      },
      "source": [
        "# 4. What is the standard deviation and 75th percentile of the measure of energy\n",
        "# per unit (Fuel_mmbtu_per_unit) in two decimal places?\n",
        "df.fuel_mmbtu_per_unit.describe().round(2)"
      ],
      "execution_count": 13,
      "outputs": [
        {
          "output_type": "execute_result",
          "data": {
            "text/plain": [
              "count    29523.00\n",
              "mean         8.49\n",
              "std         10.60\n",
              "min          0.00\n",
              "25%          1.02\n",
              "50%          5.76\n",
              "75%         17.01\n",
              "max        341.26\n",
              "Name: fuel_mmbtu_per_unit, dtype: float64"
            ]
          },
          "metadata": {
            "tags": []
          },
          "execution_count": 13
        }
      ]
    },
    {
      "cell_type": "code",
      "metadata": {
        "id": "CxkXiKF0oz3T",
        "colab_type": "code",
        "colab": {
          "base_uri": "https://localhost:8080/",
          "height": 34
        },
        "outputId": "48660aea-8ed7-4350-bb8a-ea559e4bdc6f"
      },
      "source": [
        "# 5. What is the skewness and kurtosis for the fuel quantity burned in two decimal places?\n",
        "df.fuel_qty_burned.skew().round(2)"
      ],
      "execution_count": 14,
      "outputs": [
        {
          "output_type": "execute_result",
          "data": {
            "text/plain": [
              "15.85"
            ]
          },
          "metadata": {
            "tags": []
          },
          "execution_count": 14
        }
      ]
    },
    {
      "cell_type": "code",
      "metadata": {
        "id": "uRiGqVvQpIpS",
        "colab_type": "code",
        "colab": {
          "base_uri": "https://localhost:8080/",
          "height": 34
        },
        "outputId": "eeeeb995-e554-44cd-da7c-aa3ee50db498"
      },
      "source": [
        "df.fuel_qty_burned.kurt().round(2)"
      ],
      "execution_count": 15,
      "outputs": [
        {
          "output_type": "execute_result",
          "data": {
            "text/plain": [
              "651.37"
            ]
          },
          "metadata": {
            "tags": []
          },
          "execution_count": 15
        }
      ]
    },
    {
      "cell_type": "code",
      "metadata": {
        "id": "qKEuKsgQpJ5c",
        "colab_type": "code",
        "colab": {
          "base_uri": "https://localhost:8080/",
          "height": 221
        },
        "outputId": "429402d8-d91b-4d98-c751-e3ff5824972d"
      },
      "source": [
        "# 6. Which feature has missing values and what is the total number of missing value\n",
        "# and percentage of the missing rows as a factor of the total number of rows in \n",
        "# three decimal places? \n",
        "# (Enter answer in the format: Feature: xxx, Total: xxx, Percent: xxx)\n",
        "missing_val_per_col = df.isna().sum()\n",
        "missing_val_per_col"
      ],
      "execution_count": 16,
      "outputs": [
        {
          "output_type": "execute_result",
          "data": {
            "text/plain": [
              "record_id                         0\n",
              "utility_id_ferc1                  0\n",
              "report_year                       0\n",
              "plant_name_ferc1                  0\n",
              "fuel_type_code_pudl               0\n",
              "fuel_unit                       180\n",
              "fuel_qty_burned                   0\n",
              "fuel_mmbtu_per_unit               0\n",
              "fuel_cost_per_unit_burned         0\n",
              "fuel_cost_per_unit_delivered      0\n",
              "fuel_cost_per_mmbtu               0\n",
              "dtype: int64"
            ]
          },
          "metadata": {
            "tags": []
          },
          "execution_count": 16
        }
      ]
    },
    {
      "cell_type": "code",
      "metadata": {
        "id": "yNCFhPEnpe11",
        "colab_type": "code",
        "colab": {
          "base_uri": "https://localhost:8080/",
          "height": 51
        },
        "outputId": "0b4208bb-4172-4ed8-d21c-9bf9bcd46184"
      },
      "source": [
        "(missing_val_per_col[missing_val_per_col!=0] / df.shape[0] * 100).round(3)"
      ],
      "execution_count": 17,
      "outputs": [
        {
          "output_type": "execute_result",
          "data": {
            "text/plain": [
              "fuel_unit    0.61\n",
              "dtype: float64"
            ]
          },
          "metadata": {
            "tags": []
          },
          "execution_count": 17
        }
      ]
    },
    {
      "cell_type": "code",
      "metadata": {
        "id": "MhsaoASVqApz",
        "colab_type": "code",
        "colab": {
          "base_uri": "https://localhost:8080/",
          "height": 34
        },
        "outputId": "0722bf08-d052-41f5-faff-6a3fb98391a5"
      },
      "source": [
        "# 7. The feature with missing values falls under what category? \n",
        "# What missing value imputation technique would you use?\n",
        "df.fuel_unit.dtype"
      ],
      "execution_count": 18,
      "outputs": [
        {
          "output_type": "execute_result",
          "data": {
            "text/plain": [
              "dtype('O')"
            ]
          },
          "metadata": {
            "tags": []
          },
          "execution_count": 18
        }
      ]
    },
    {
      "cell_type": "code",
      "metadata": {
        "id": "y-UgpPU8rTkj",
        "colab_type": "code",
        "colab": {
          "base_uri": "https://localhost:8080/",
          "height": 266
        },
        "outputId": "d018764c-64e6-480c-c89e-1bd72e29ed3a"
      },
      "source": [
        "# 8. Which of the features has the second and third lowest correlation with the Fuel Cost Per Unit Burned?\n",
        "df.corr().sort_values(['fuel_cost_per_unit_burned'], ascending=True)[['fuel_cost_per_unit_burned']].round()"
      ],
      "execution_count": 19,
      "outputs": [
        {
          "output_type": "execute_result",
          "data": {
            "text/html": [
              "<div>\n",
              "<style scoped>\n",
              "    .dataframe tbody tr th:only-of-type {\n",
              "        vertical-align: middle;\n",
              "    }\n",
              "\n",
              "    .dataframe tbody tr th {\n",
              "        vertical-align: top;\n",
              "    }\n",
              "\n",
              "    .dataframe thead th {\n",
              "        text-align: right;\n",
              "    }\n",
              "</style>\n",
              "<table border=\"1\" class=\"dataframe\">\n",
              "  <thead>\n",
              "    <tr style=\"text-align: right;\">\n",
              "      <th></th>\n",
              "      <th>fuel_cost_per_unit_burned</th>\n",
              "    </tr>\n",
              "  </thead>\n",
              "  <tbody>\n",
              "    <tr>\n",
              "      <th>utility_id_ferc1</th>\n",
              "      <td>-0.0</td>\n",
              "    </tr>\n",
              "    <tr>\n",
              "      <th>fuel_qty_burned</th>\n",
              "      <td>-0.0</td>\n",
              "    </tr>\n",
              "    <tr>\n",
              "      <th>fuel_mmbtu_per_unit</th>\n",
              "      <td>-0.0</td>\n",
              "    </tr>\n",
              "    <tr>\n",
              "      <th>fuel_cost_per_mmbtu</th>\n",
              "      <td>-0.0</td>\n",
              "    </tr>\n",
              "    <tr>\n",
              "      <th>fuel_cost_per_unit_delivered</th>\n",
              "      <td>0.0</td>\n",
              "    </tr>\n",
              "    <tr>\n",
              "      <th>report_year</th>\n",
              "      <td>0.0</td>\n",
              "    </tr>\n",
              "    <tr>\n",
              "      <th>fuel_cost_per_unit_burned</th>\n",
              "      <td>1.0</td>\n",
              "    </tr>\n",
              "  </tbody>\n",
              "</table>\n",
              "</div>"
            ],
            "text/plain": [
              "                              fuel_cost_per_unit_burned\n",
              "utility_id_ferc1                                   -0.0\n",
              "fuel_qty_burned                                    -0.0\n",
              "fuel_mmbtu_per_unit                                -0.0\n",
              "fuel_cost_per_mmbtu                                -0.0\n",
              "fuel_cost_per_unit_delivered                        0.0\n",
              "report_year                                         0.0\n",
              "fuel_cost_per_unit_burned                           1.0"
            ]
          },
          "metadata": {
            "tags": []
          },
          "execution_count": 19
        }
      ]
    },
    {
      "cell_type": "code",
      "metadata": {
        "id": "O0AahpRcry6i",
        "colab_type": "code",
        "colab": {
          "base_uri": "https://localhost:8080/",
          "height": 142
        },
        "outputId": "430cae6f-e303-4411-fe59-caa83926a513"
      },
      "source": [
        "# 9. For the fuel type coal, what is the percentage change in the fuel cost per \n",
        "# unit burned in 1998 compared to 1994?\n",
        "df_coal = df[df['fuel_type_code_pudl'] == 'coal']\n",
        "df_coal_by_year = df_coal.groupby('report_year').sum()\n",
        "df_coal_by_year[df_coal_by_year.index.isin([1994, 1998])].pct_change() * 100 "
      ],
      "execution_count": 20,
      "outputs": [
        {
          "output_type": "execute_result",
          "data": {
            "text/html": [
              "<div>\n",
              "<style scoped>\n",
              "    .dataframe tbody tr th:only-of-type {\n",
              "        vertical-align: middle;\n",
              "    }\n",
              "\n",
              "    .dataframe tbody tr th {\n",
              "        vertical-align: top;\n",
              "    }\n",
              "\n",
              "    .dataframe thead th {\n",
              "        text-align: right;\n",
              "    }\n",
              "</style>\n",
              "<table border=\"1\" class=\"dataframe\">\n",
              "  <thead>\n",
              "    <tr style=\"text-align: right;\">\n",
              "      <th></th>\n",
              "      <th>utility_id_ferc1</th>\n",
              "      <th>fuel_qty_burned</th>\n",
              "      <th>fuel_mmbtu_per_unit</th>\n",
              "      <th>fuel_cost_per_unit_burned</th>\n",
              "      <th>fuel_cost_per_unit_delivered</th>\n",
              "      <th>fuel_cost_per_mmbtu</th>\n",
              "    </tr>\n",
              "    <tr>\n",
              "      <th>report_year</th>\n",
              "      <th></th>\n",
              "      <th></th>\n",
              "      <th></th>\n",
              "      <th></th>\n",
              "      <th></th>\n",
              "      <th></th>\n",
              "    </tr>\n",
              "  </thead>\n",
              "  <tbody>\n",
              "    <tr>\n",
              "      <th>1994</th>\n",
              "      <td>NaN</td>\n",
              "      <td>NaN</td>\n",
              "      <td>NaN</td>\n",
              "      <td>NaN</td>\n",
              "      <td>NaN</td>\n",
              "      <td>NaN</td>\n",
              "    </tr>\n",
              "    <tr>\n",
              "      <th>1998</th>\n",
              "      <td>-7.985326</td>\n",
              "      <td>25.236927</td>\n",
              "      <td>-10.498422</td>\n",
              "      <td>-20.567655</td>\n",
              "      <td>421.153112</td>\n",
              "      <td>-18.336405</td>\n",
              "    </tr>\n",
              "  </tbody>\n",
              "</table>\n",
              "</div>"
            ],
            "text/plain": [
              "             utility_id_ferc1  ...  fuel_cost_per_mmbtu\n",
              "report_year                    ...                     \n",
              "1994                      NaN  ...                  NaN\n",
              "1998                -7.985326  ...           -18.336405\n",
              "\n",
              "[2 rows x 6 columns]"
            ]
          },
          "metadata": {
            "tags": []
          },
          "execution_count": 20
        }
      ]
    },
    {
      "cell_type": "code",
      "metadata": {
        "id": "zcn2qbnlr-GG",
        "colab_type": "code",
        "colab": {
          "base_uri": "https://localhost:8080/",
          "height": 476
        },
        "outputId": "78f56c32-f923-4de3-fd40-bdea1043811e"
      },
      "source": [
        "# 10. Which year has the highest average fuel cost per unit delivered?\n",
        "df.groupby('report_year').mean()['fuel_cost_per_unit_delivered'].sort_values(ascending=False)"
      ],
      "execution_count": 21,
      "outputs": [
        {
          "output_type": "execute_result",
          "data": {
            "text/plain": [
              "report_year\n",
              "1997    11140.197239\n",
              "1996     9196.705948\n",
              "2000      985.362877\n",
              "2009      652.694163\n",
              "2018      499.269966\n",
              "2015      326.535511\n",
              "1998      287.154420\n",
              "2014      192.737183\n",
              "2013      172.307591\n",
              "2004      139.524275\n",
              "2016      103.901761\n",
              "2010       91.862105\n",
              "1994       63.636060\n",
              "2012       60.994502\n",
              "2001       60.050396\n",
              "2011       59.774667\n",
              "2008       58.588197\n",
              "2003       55.663493\n",
              "2002       47.594361\n",
              "2017       46.196861\n",
              "2007       43.325023\n",
              "2005       41.438184\n",
              "2006       38.657484\n",
              "1995       32.735269\n",
              "1999       25.551627\n",
              "Name: fuel_cost_per_unit_delivered, dtype: float64"
            ]
          },
          "metadata": {
            "tags": []
          },
          "execution_count": 21
        }
      ]
    },
    {
      "cell_type": "code",
      "metadata": {
        "id": "zTgjH8F0sHgz",
        "colab_type": "code",
        "colab": {}
      },
      "source": [
        ""
      ],
      "execution_count": 21,
      "outputs": []
    }
  ]
}