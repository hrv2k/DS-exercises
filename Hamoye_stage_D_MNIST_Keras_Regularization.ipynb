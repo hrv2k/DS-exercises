{
  "nbformat": 4,
  "nbformat_minor": 0,
  "metadata": {
    "colab": {
      "name": "Hamoye stage D  - MNIST Keras Regularization.ipynb",
      "provenance": [],
      "authorship_tag": "ABX9TyOxUW12gJjPCS/RhUlnDsMH",
      "include_colab_link": true
    },
    "kernelspec": {
      "name": "python3",
      "display_name": "Python 3"
    }
  },
  "cells": [
    {
      "cell_type": "markdown",
      "metadata": {
        "id": "view-in-github",
        "colab_type": "text"
      },
      "source": [
        "<a href=\"https://colab.research.google.com/github/kakiang/Hamoye-projects/blob/master/Hamoye_stage_D_MNIST_Keras_Regularization.ipynb\" target=\"_parent\"><img src=\"https://colab.research.google.com/assets/colab-badge.svg\" alt=\"Open In Colab\"/></a>"
      ]
    },
    {
      "cell_type": "markdown",
      "metadata": {
        "id": "mRA6NP2QbA5K",
        "colab_type": "text"
      },
      "source": [
        "# Neural Networks, Image Recognition and Object Detection"
      ]
    },
    {
      "cell_type": "markdown",
      "metadata": {
        "id": "Xw5rOuuFa4XD",
        "colab_type": "text"
      },
      "source": [
        "## Introduction to Keras and Tensorflow with Python"
      ]
    },
    {
      "cell_type": "code",
      "metadata": {
        "id": "0NMDUGJXYXJl",
        "colab_type": "code",
        "colab": {}
      },
      "source": [
        "import random\n",
        "import numpy as np\n",
        "import pandas as pd\n",
        "import matplotlib.pyplot as plt\n",
        "import seaborn as sns\n",
        "import tensorflow as tf\n",
        "from tensorflow import keras\n",
        "sns.set_style(\"whitegrid\")"
      ],
      "execution_count": 74,
      "outputs": []
    },
    {
      "cell_type": "code",
      "metadata": {
        "id": "ZMyK5IE3cbgL",
        "colab_type": "code",
        "colab": {
          "base_uri": "https://localhost:8080/",
          "height": 34
        },
        "outputId": "8831b709-4d81-4e21-f3c4-19c433b762af"
      },
      "source": [
        "print(tf.__version__)"
      ],
      "execution_count": 75,
      "outputs": [
        {
          "output_type": "stream",
          "text": [
            "2.3.0\n"
          ],
          "name": "stdout"
        }
      ]
    },
    {
      "cell_type": "code",
      "metadata": {
        "id": "wzyjCY6sY87e",
        "colab_type": "code",
        "colab": {}
      },
      "source": [
        "mnist = keras.datasets.mnist"
      ],
      "execution_count": 76,
      "outputs": []
    },
    {
      "cell_type": "code",
      "metadata": {
        "id": "cZqjdplcZF8Z",
        "colab_type": "code",
        "colab": {}
      },
      "source": [
        "(train_images, train_labels), (test_images, test_labels) = mnist.load_data()"
      ],
      "execution_count": 77,
      "outputs": []
    },
    {
      "cell_type": "code",
      "metadata": {
        "id": "0hvCPWeKZOj3",
        "colab_type": "code",
        "colab": {
          "base_uri": "https://localhost:8080/",
          "height": 34
        },
        "outputId": "8719c3b8-3ab7-46b0-df1e-9411ca3a90e4"
      },
      "source": [
        "train_images.shape, train_labels.shape"
      ],
      "execution_count": 78,
      "outputs": [
        {
          "output_type": "execute_result",
          "data": {
            "text/plain": [
              "((60000, 28, 28), (60000,))"
            ]
          },
          "metadata": {
            "tags": []
          },
          "execution_count": 78
        }
      ]
    },
    {
      "cell_type": "code",
      "metadata": {
        "id": "qnPi040IZiio",
        "colab_type": "code",
        "colab": {
          "base_uri": "https://localhost:8080/",
          "height": 34
        },
        "outputId": "9b6e2316-498e-4cdc-9c83-7b05c4cb090a"
      },
      "source": [
        "test_images.shape, test_labels.shape"
      ],
      "execution_count": 79,
      "outputs": [
        {
          "output_type": "execute_result",
          "data": {
            "text/plain": [
              "((10000, 28, 28), (10000,))"
            ]
          },
          "metadata": {
            "tags": []
          },
          "execution_count": 79
        }
      ]
    },
    {
      "cell_type": "code",
      "metadata": {
        "id": "LwcddokzZqFq",
        "colab_type": "code",
        "colab": {
          "base_uri": "https://localhost:8080/",
          "height": 34
        },
        "outputId": "48c04292-5873-4003-d383-c1878a47948e"
      },
      "source": [
        "class_labels = np.unique(train_labels)\n",
        "class_labels"
      ],
      "execution_count": 80,
      "outputs": [
        {
          "output_type": "execute_result",
          "data": {
            "text/plain": [
              "array([0, 1, 2, 3, 4, 5, 6, 7, 8, 9], dtype=uint8)"
            ]
          },
          "metadata": {
            "tags": []
          },
          "execution_count": 80
        }
      ]
    },
    {
      "cell_type": "code",
      "metadata": {
        "id": "sOv65sCdZ5tt",
        "colab_type": "code",
        "colab": {
          "base_uri": "https://localhost:8080/",
          "height": 51
        },
        "outputId": "5d101f92-2918-41ae-89df-e56713152af1"
      },
      "source": [
        "print(f'There are {len(class_labels)} classes in the dataset')\n",
        "print(f'They are: {class_labels}')"
      ],
      "execution_count": 81,
      "outputs": [
        {
          "output_type": "stream",
          "text": [
            "There are 10 classes in the dataset\n",
            "They are: [0 1 2 3 4 5 6 7 8 9]\n"
          ],
          "name": "stdout"
        }
      ]
    },
    {
      "cell_type": "markdown",
      "metadata": {
        "id": "6s13FPA1bHaN",
        "colab_type": "text"
      },
      "source": [
        "### Looking at the digits"
      ]
    },
    {
      "cell_type": "code",
      "metadata": {
        "id": "-BEt4wBOasoZ",
        "colab_type": "code",
        "colab": {
          "base_uri": "https://localhost:8080/",
          "height": 432
        },
        "outputId": "24426e0b-6032-4b6e-c708-ae5f53dce3a2"
      },
      "source": [
        "def show_image_sample():\n",
        "  plt.figure(figsize=(7,7))\n",
        "  for i in range(6):\n",
        "    num = random.randint(0, len(train_images))\n",
        "    plt.subplot(2,3,i+1)\n",
        "    plt.imshow(train_images[num])\n",
        "    plt.title('Label: {}'.format(train_labels[num]))\n",
        "  plt.tight_layout()\n",
        "\n",
        "show_image_sample()"
      ],
      "execution_count": 82,
      "outputs": [
        {
          "output_type": "display_data",
          "data": {
            "image/png": "[encoded data removed]",
            "text/plain": [
              "<Figure size 504x504 with 6 Axes>"
            ]
          },
          "metadata": {
            "tags": []
          }
        }
      ]
    },
    {
      "cell_type": "markdown",
      "metadata": {
        "id": "_HFFdgIAd9sO",
        "colab_type": "text"
      },
      "source": [
        "### Processing the images"
      ]
    },
    {
      "cell_type": "markdown",
      "metadata": {
        "id": "2aaehAwofxCZ",
        "colab_type": "text"
      },
      "source": [
        "#### We scale our dataset to range between 0 and 1. In this dataset, the pixel values range from 0 to 255. Dividing the data by 255 normalizes pixel values using minmax (values between 0 and 1 inclusive)"
      ]
    },
    {
      "cell_type": "code",
      "metadata": {
        "id": "cwNKHsdPb3XF",
        "colab_type": "code",
        "colab": {}
      },
      "source": [
        "train_images = train_images / 255.0\n",
        "test_images = test_images / 255.0"
      ],
      "execution_count": 83,
      "outputs": []
    },
    {
      "cell_type": "code",
      "metadata": {
        "id": "E0ZPAonBehkV",
        "colab_type": "code",
        "colab": {}
      },
      "source": [
        "# show_image_sample()"
      ],
      "execution_count": 84,
      "outputs": []
    },
    {
      "cell_type": "markdown",
      "metadata": {
        "id": "K-BLMbZLfk09",
        "colab_type": "text"
      },
      "source": [
        "#### Reshape data from 28 x 28 array to a 784 1D  array"
      ]
    },
    {
      "cell_type": "code",
      "metadata": {
        "id": "3882Xp0xfVnB",
        "colab_type": "code",
        "colab": {}
      },
      "source": [
        "# reshape 28 x 28 matrices into 784-length vectors\n",
        "new_dim = np.prod(train_images.shape[1:])\n",
        "train_images = train_images.reshape(train_images.shape[0], new_dim)\n",
        "test_images = test_images.reshape(test_images.shape[0], new_dim)"
      ],
      "execution_count": 85,
      "outputs": []
    },
    {
      "cell_type": "markdown",
      "metadata": {
        "id": "n2TAi4zJewee",
        "colab_type": "text"
      },
      "source": [
        "#### Split training data into training and validation data"
      ]
    },
    {
      "cell_type": "code",
      "metadata": {
        "id": "6FC4qKuFerU1",
        "colab_type": "code",
        "colab": {
          "base_uri": "https://localhost:8080/",
          "height": 85
        },
        "outputId": "48fa1bb5-6e44-49d7-88f0-87e62546cd8f"
      },
      "source": [
        "x_val = train_images[0:5000]\n",
        "x_train = train_images[5000:]\n",
        "\n",
        "y_val = train_labels[0:5000]\n",
        "y_train = train_labels[5000:]\n",
        "\n",
        "print(\"x_train: {}\" .format(x_train.shape))\n",
        "print(\"y_train: {}\" .format(y_train.shape))\n",
        "print(\"x_val: {}\" .format(x_val.shape))\n",
        "print(\"y_val: {}\" .format(y_val.shape))"
      ],
      "execution_count": 86,
      "outputs": [
        {
          "output_type": "stream",
          "text": [
            "x_train: (55000, 784)\n",
            "y_train: (55000,)\n",
            "x_val: (5000, 784)\n",
            "y_val: (5000,)\n"
          ],
          "name": "stdout"
        }
      ]
    },
    {
      "cell_type": "markdown",
      "metadata": {
        "id": "z4WAfaY7l5Lm",
        "colab_type": "text"
      },
      "source": [
        "#### Encode labels to one-hot categorical format\n",
        "```\n",
        "0 -> [1, 0, 0, 0, 0, 0, 0, 0, 0]\n",
        "1 -> [0, 1, 0, 0, 0, 0, 0, 0, 0]\n",
        "2 -> [0, 0, 1, 0, 0, 0, 0, 0, 0]\n",
        "etc.\n",
        "```"
      ]
    },
    {
      "cell_type": "code",
      "metadata": {
        "id": "Bu85wnP7jxhd",
        "colab_type": "code",
        "colab": {}
      },
      "source": [
        "from tensorflow.keras.utils import to_categorical\n",
        "\n",
        "nb_classes = 10\n",
        "y_train = to_categorical(y_train, nb_classes)\n",
        "y_val = to_categorical(y_val, nb_classes)\n",
        "y_test = to_categorical(test_labels, nb_classes)"
      ],
      "execution_count": 87,
      "outputs": []
    },
    {
      "cell_type": "code",
      "metadata": {
        "id": "A0TQyJvMmtxD",
        "colab_type": "code",
        "colab": {
          "base_uri": "https://localhost:8080/",
          "height": 34
        },
        "outputId": "954fab5b-5752-467f-9f6e-50bef6a0bb60"
      },
      "source": [
        "x_train.size"
      ],
      "execution_count": 88,
      "outputs": [
        {
          "output_type": "execute_result",
          "data": {
            "text/plain": [
              "43120000"
            ]
          },
          "metadata": {
            "tags": []
          },
          "execution_count": 88
        }
      ]
    },
    {
      "cell_type": "markdown",
      "metadata": {
        "id": "54s-efeuWANj",
        "colab_type": "text"
      },
      "source": [
        "## Building a Sequential Feed Forward Network in Keras"
      ]
    },
    {
      "cell_type": "markdown",
      "metadata": {
        "id": "_Qvy3JXzZe4H",
        "colab_type": "text"
      },
      "source": [
        "### Create the tf.keras.Sequential model by stacking layers"
      ]
    },
    {
      "cell_type": "code",
      "metadata": {
        "id": "HS84W1zaPcr0",
        "colab_type": "code",
        "colab": {
          "base_uri": "https://localhost:8080/",
          "height": 255
        },
        "outputId": "dfb89047-2b68-4abe-a55f-4983a09be155"
      },
      "source": [
        "from keras.layers import Dense\n",
        "from keras.models import Sequential\n",
        "\n",
        "model = Sequential()\n",
        "# An \"activation\" is a non-linear function applied to the output of the layer above.\n",
        "# It checks the new value of the node, and decides whether that artifical neuron has \n",
        "# fired. The Rectified Linear Unit (ReLU) converts all negative inputs to nodes in the \n",
        "# next layer to be zero. Those inputs are then not considered to be fired.\n",
        "# Positive values of a node are unchanged. R(x)=max(0,x)\n",
        "model.add(Dense(256, activation='relu', input_shape=(new_dim,)))\n",
        "model.add(Dense(128, activation='relu'))\n",
        "# The \"softmax\" activation represents a probability distribution over K different possible\n",
        "# outcomes. Its values are all non-negative and sum to 1.\n",
        "model.add(Dense(nb_classes, activation='softmax'))\n",
        "# Summarize the built model\n",
        "model.summary()"
      ],
      "execution_count": 89,
      "outputs": [
        {
          "output_type": "stream",
          "text": [
            "Model: \"sequential_2\"\n",
            "_________________________________________________________________\n",
            "Layer (type)                 Output Shape              Param #   \n",
            "=================================================================\n",
            "dense_6 (Dense)              (None, 256)               200960    \n",
            "_________________________________________________________________\n",
            "dense_7 (Dense)              (None, 128)               32896     \n",
            "_________________________________________________________________\n",
            "dense_8 (Dense)              (None, 10)                1290      \n",
            "=================================================================\n",
            "Total params: 235,146\n",
            "Trainable params: 235,146\n",
            "Non-trainable params: 0\n",
            "_________________________________________________________________\n"
          ],
          "name": "stdout"
        }
      ]
    },
    {
      "cell_type": "markdown",
      "metadata": {
        "id": "Mgee34m_ZKp5",
        "colab_type": "text"
      },
      "source": [
        "### Compiling the model"
      ]
    },
    {
      "cell_type": "code",
      "metadata": {
        "id": "6tVep0Z_ZNRR",
        "colab_type": "code",
        "colab": {}
      },
      "source": [
        "# We use the Adam optimizer for learning \n",
        "model.compile(optimizer='adam', loss=keras.losses.categorical_crossentropy,\n",
        "              metrics=['accuracy'])"
      ],
      "execution_count": 90,
      "outputs": []
    },
    {
      "cell_type": "markdown",
      "metadata": {
        "id": "5f9bcoU0bAId",
        "colab_type": "text"
      },
      "source": [
        "### Train the model"
      ]
    },
    {
      "cell_type": "code",
      "metadata": {
        "id": "J1WkL6i8bB46",
        "colab_type": "code",
        "colab": {
          "base_uri": "https://localhost:8080/",
          "height": 717
        },
        "outputId": "32a44d29-2c9a-408a-b554-13a6ba334e60"
      },
      "source": [
        "history = model.fit(x_train, y_train, validation_data=(x_val, y_val),\n",
        "                    batch_size=1000, epochs=20, verbose=1)"
      ],
      "execution_count": 91,
      "outputs": [
        {
          "output_type": "stream",
          "text": [
            "Epoch 1/20\n",
            "55/55 [==============================] - 1s 25ms/step - loss: 0.6502 - accuracy: 0.8250 - val_loss: 0.2527 - val_accuracy: 0.9304\n",
            "Epoch 2/20\n",
            "55/55 [==============================] - 1s 23ms/step - loss: 0.2235 - accuracy: 0.9354 - val_loss: 0.1766 - val_accuracy: 0.9516\n",
            "Epoch 3/20\n",
            "55/55 [==============================] - 1s 23ms/step - loss: 0.1619 - accuracy: 0.9533 - val_loss: 0.1367 - val_accuracy: 0.9630\n",
            "Epoch 4/20\n",
            "55/55 [==============================] - 1s 23ms/step - loss: 0.1260 - accuracy: 0.9638 - val_loss: 0.1164 - val_accuracy: 0.9670\n",
            "Epoch 5/20\n",
            "55/55 [==============================] - 1s 23ms/step - loss: 0.1008 - accuracy: 0.9715 - val_loss: 0.1014 - val_accuracy: 0.9722\n",
            "Epoch 6/20\n",
            "55/55 [==============================] - 1s 23ms/step - loss: 0.0841 - accuracy: 0.9759 - val_loss: 0.0896 - val_accuracy: 0.9734\n",
            "Epoch 7/20\n",
            "55/55 [==============================] - 1s 22ms/step - loss: 0.0696 - accuracy: 0.9800 - val_loss: 0.0839 - val_accuracy: 0.9764\n",
            "Epoch 8/20\n",
            "55/55 [==============================] - 1s 22ms/step - loss: 0.0600 - accuracy: 0.9836 - val_loss: 0.0801 - val_accuracy: 0.9754\n",
            "Epoch 9/20\n",
            "55/55 [==============================] - 1s 23ms/step - loss: 0.0501 - accuracy: 0.9858 - val_loss: 0.0733 - val_accuracy: 0.9782\n",
            "Epoch 10/20\n",
            "55/55 [==============================] - 1s 23ms/step - loss: 0.0431 - accuracy: 0.9882 - val_loss: 0.0696 - val_accuracy: 0.9786\n",
            "Epoch 11/20\n",
            "55/55 [==============================] - 1s 23ms/step - loss: 0.0362 - accuracy: 0.9902 - val_loss: 0.0671 - val_accuracy: 0.9796\n",
            "Epoch 12/20\n",
            "55/55 [==============================] - 1s 23ms/step - loss: 0.0309 - accuracy: 0.9922 - val_loss: 0.0669 - val_accuracy: 0.9806\n",
            "Epoch 13/20\n",
            "55/55 [==============================] - 1s 23ms/step - loss: 0.0272 - accuracy: 0.9933 - val_loss: 0.0634 - val_accuracy: 0.9810\n",
            "Epoch 14/20\n",
            "55/55 [==============================] - 1s 23ms/step - loss: 0.0230 - accuracy: 0.9947 - val_loss: 0.0638 - val_accuracy: 0.9814\n",
            "Epoch 15/20\n",
            "55/55 [==============================] - 1s 23ms/step - loss: 0.0208 - accuracy: 0.9950 - val_loss: 0.0640 - val_accuracy: 0.9816\n",
            "Epoch 16/20\n",
            "55/55 [==============================] - 1s 23ms/step - loss: 0.0171 - accuracy: 0.9964 - val_loss: 0.0632 - val_accuracy: 0.9820\n",
            "Epoch 17/20\n",
            "55/55 [==============================] - 1s 23ms/step - loss: 0.0139 - accuracy: 0.9976 - val_loss: 0.0616 - val_accuracy: 0.9824\n",
            "Epoch 18/20\n",
            "55/55 [==============================] - 1s 23ms/step - loss: 0.0121 - accuracy: 0.9978 - val_loss: 0.0648 - val_accuracy: 0.9816\n",
            "Epoch 19/20\n",
            "55/55 [==============================] - 1s 23ms/step - loss: 0.0103 - accuracy: 0.9985 - val_loss: 0.0626 - val_accuracy: 0.9820\n",
            "Epoch 20/20\n",
            "55/55 [==============================] - 1s 23ms/step - loss: 0.0091 - accuracy: 0.9987 - val_loss: 0.0656 - val_accuracy: 0.9818\n"
          ],
          "name": "stdout"
        }
      ]
    },
    {
      "cell_type": "markdown",
      "metadata": {
        "id": "WywEM_ujbrGk",
        "colab_type": "text"
      },
      "source": [
        "### Evaluate Model's Accuracy on Test Data"
      ]
    },
    {
      "cell_type": "code",
      "metadata": {
        "id": "6YiG6utEbsux",
        "colab_type": "code",
        "colab": {
          "base_uri": "https://localhost:8080/",
          "height": 68
        },
        "outputId": "fca20e0a-c6a3-439a-ac5e-0aedf38f002b"
      },
      "source": [
        "print(\"Evaluate on test data\")\n",
        "model.evaluate(test_images, y_test, verbose=2)\n",
        "# print('Test loss:', test_loss)\n",
        "# print('Test accuracy:', test_accuracy)"
      ],
      "execution_count": 92,
      "outputs": [
        {
          "output_type": "stream",
          "text": [
            "Evaluate on test data\n",
            "313/313 - 0s - loss: 0.0744 - accuracy: 0.9791\n"
          ],
          "name": "stdout"
        },
        {
          "output_type": "execute_result",
          "data": {
            "text/plain": [
              "[0.07442770153284073, 0.9790999889373779]"
            ]
          },
          "metadata": {
            "tags": []
          },
          "execution_count": 92
        }
      ]
    },
    {
      "cell_type": "code",
      "metadata": {
        "id": "oVmhaKoWtyEp",
        "colab_type": "code",
        "colab": {
          "base_uri": "https://localhost:8080/",
          "height": 513
        },
        "outputId": "24419dc7-d0f4-49b3-b5a5-1dccda46c3d1"
      },
      "source": [
        "# Generate predictions (probabilities -- the output of the last layer)\n",
        "# on new data using `predict` \n",
        "\n",
        "# print(\"Generate predictions for 3 samples\")\n",
        "# predictions = model.predict(test_images[:3])\n",
        "# print(\"predictions shape:\", predictions.shape)\n",
        "def test_random_predictions():\n",
        "  plt.figure(figsize=(7,7))\n",
        "  for i in range(9):\n",
        "    plt.subplot(3,3,i+1)\n",
        "    index = random.randint(0, len(test_images))\n",
        "    plt.imshow(test_images[index].reshape(28, 28), cmap='Greys')\n",
        "    pred = model.predict(test_images[index].reshape(1, new_dim))\n",
        "    plt.title('Pred:{} Correct:{}'.format(pred.argmax(), y_test[index].argmax()))\n",
        "  plt.tight_layout()\n",
        "\n",
        "test_random_predictions()"
      ],
      "execution_count": 93,
      "outputs": [
        {
          "output_type": "display_data",
          "data": {
            "image/png": "[encoded data removed]",
            "text/plain": [
              "<Figure size 504x504 with 9 Axes>"
            ]
          },
          "metadata": {
            "tags": []
          }
        }
      ]
    },
    {
      "cell_type": "markdown",
      "metadata": {
        "id": "rc9bAsePgA12",
        "colab_type": "text"
      },
      "source": [
        "### Plot Loss Curves to Check for Overfitting"
      ]
    },
    {
      "cell_type": "code",
      "metadata": {
        "id": "RfSUfdS-cf_i",
        "colab_type": "code",
        "colab": {
          "base_uri": "https://localhost:8080/",
          "height": 295
        },
        "outputId": "82616b3f-3b88-4f28-8800-4f21c491f118"
      },
      "source": [
        "# plt.figure()\n",
        "def plot_loss_curves(history):\n",
        "  plt.plot(history.history['loss'], 'blue' )\n",
        "  plt.plot(history.history['val_loss'], 'red' )\n",
        "  plt.legend(['Training loss' , 'Validation Loss'])\n",
        "  plt.xlabel('Epochs' )\n",
        "  plt.ylabel('Loss' )\n",
        "  plt.title('Loss Curves - before regularisation')\n",
        "\n",
        "plot_loss_curves(history)"
      ],
      "execution_count": 94,
      "outputs": [
        {
          "output_type": "display_data",
          "data": {
            "image/png": "[encoded data removed]",
            "text/plain": [
              "<Figure size 432x288 with 1 Axes>"
            ]
          },
          "metadata": {
            "tags": []
          }
        }
      ]
    },
    {
      "cell_type": "markdown",
      "metadata": {
        "id": "IZ9nlMoBpVZf",
        "colab_type": "text"
      },
      "source": [
        "Although the validation and training loss seem great, we can see that the validation loss increases. This identifies overfitting in our network. How do we proceed?"
      ]
    },
    {
      "cell_type": "code",
      "metadata": {
        "id": "rPrV7kFck6Ez",
        "colab_type": "code",
        "colab": {
          "base_uri": "https://localhost:8080/",
          "height": 323
        },
        "outputId": "c47d8375-1362-4e64-8139-26838a06915e"
      },
      "source": [
        "from keras.layers import Dropout\n",
        "\n",
        "regl_model = Sequential()\n",
        "regl_model.add(Dense(256, activation='relu', input_shape=(new_dim,)))\n",
        "regl_model.add(Dropout(0.4))\n",
        "regl_model.add(Dense(128, activation='relu'))\n",
        "regl_model.add(Dropout(0.4))\n",
        "regl_model.add(Dense(nb_classes, activation='softmax'))\n",
        "regl_model.summary()"
      ],
      "execution_count": 95,
      "outputs": [
        {
          "output_type": "stream",
          "text": [
            "Model: \"sequential_3\"\n",
            "_________________________________________________________________\n",
            "Layer (type)                 Output Shape              Param #   \n",
            "=================================================================\n",
            "dense_9 (Dense)              (None, 256)               200960    \n",
            "_________________________________________________________________\n",
            "dropout_2 (Dropout)          (None, 256)               0         \n",
            "_________________________________________________________________\n",
            "dense_10 (Dense)             (None, 128)               32896     \n",
            "_________________________________________________________________\n",
            "dropout_3 (Dropout)          (None, 128)               0         \n",
            "_________________________________________________________________\n",
            "dense_11 (Dense)             (None, 10)                1290      \n",
            "=================================================================\n",
            "Total params: 235,146\n",
            "Trainable params: 235,146\n",
            "Non-trainable params: 0\n",
            "_________________________________________________________________\n"
          ],
          "name": "stdout"
        }
      ]
    },
    {
      "cell_type": "code",
      "metadata": {
        "id": "6pc_O59Vxrxy",
        "colab_type": "code",
        "colab": {
          "base_uri": "https://localhost:8080/",
          "height": 717
        },
        "outputId": "5c88690a-d7b0-4236-a64b-ff5debd842e2"
      },
      "source": [
        "regl_model.compile(optimizer='adam', loss=keras.losses.categorical_crossentropy,\n",
        "              metrics=['accuracy'])\n",
        "\n",
        "regl_history = regl_model.fit(x_train, y_train, validation_data=(x_val, y_val),\n",
        "                    batch_size=1000, epochs=20, verbose=1)"
      ],
      "execution_count": 96,
      "outputs": [
        {
          "output_type": "stream",
          "text": [
            "Epoch 1/20\n",
            "55/55 [==============================] - 2s 29ms/step - loss: 0.9136 - accuracy: 0.7128 - val_loss: 0.2968 - val_accuracy: 0.9158\n",
            "Epoch 2/20\n",
            "55/55 [==============================] - 2s 27ms/step - loss: 0.3600 - accuracy: 0.8943 - val_loss: 0.2003 - val_accuracy: 0.9398\n",
            "Epoch 3/20\n",
            "55/55 [==============================] - 2s 27ms/step - loss: 0.2688 - accuracy: 0.9215 - val_loss: 0.1606 - val_accuracy: 0.9532\n",
            "Epoch 4/20\n",
            "55/55 [==============================] - 2s 28ms/step - loss: 0.2221 - accuracy: 0.9356 - val_loss: 0.1346 - val_accuracy: 0.9624\n",
            "Epoch 5/20\n",
            "55/55 [==============================] - 2s 28ms/step - loss: 0.1897 - accuracy: 0.9451 - val_loss: 0.1182 - val_accuracy: 0.9662\n",
            "Epoch 6/20\n",
            "55/55 [==============================] - 2s 28ms/step - loss: 0.1686 - accuracy: 0.9514 - val_loss: 0.1051 - val_accuracy: 0.9706\n",
            "Epoch 7/20\n",
            "55/55 [==============================] - 1s 27ms/step - loss: 0.1523 - accuracy: 0.9561 - val_loss: 0.0964 - val_accuracy: 0.9724\n",
            "Epoch 8/20\n",
            "55/55 [==============================] - 2s 28ms/step - loss: 0.1360 - accuracy: 0.9599 - val_loss: 0.0908 - val_accuracy: 0.9734\n",
            "Epoch 9/20\n",
            "55/55 [==============================] - 1s 27ms/step - loss: 0.1259 - accuracy: 0.9623 - val_loss: 0.0850 - val_accuracy: 0.9740\n",
            "Epoch 10/20\n",
            "55/55 [==============================] - 2s 28ms/step - loss: 0.1176 - accuracy: 0.9645 - val_loss: 0.0820 - val_accuracy: 0.9752\n",
            "Epoch 11/20\n",
            "55/55 [==============================] - 1s 27ms/step - loss: 0.1057 - accuracy: 0.9687 - val_loss: 0.0772 - val_accuracy: 0.9784\n",
            "Epoch 12/20\n",
            "55/55 [==============================] - 2s 27ms/step - loss: 0.1012 - accuracy: 0.9696 - val_loss: 0.0745 - val_accuracy: 0.9798\n",
            "Epoch 13/20\n",
            "55/55 [==============================] - 1s 27ms/step - loss: 0.0937 - accuracy: 0.9717 - val_loss: 0.0739 - val_accuracy: 0.9794\n",
            "Epoch 14/20\n",
            "55/55 [==============================] - 1s 27ms/step - loss: 0.0897 - accuracy: 0.9730 - val_loss: 0.0713 - val_accuracy: 0.9804\n",
            "Epoch 15/20\n",
            "55/55 [==============================] - 1s 27ms/step - loss: 0.0831 - accuracy: 0.9748 - val_loss: 0.0687 - val_accuracy: 0.9792\n",
            "Epoch 16/20\n",
            "55/55 [==============================] - 1s 27ms/step - loss: 0.0800 - accuracy: 0.9759 - val_loss: 0.0658 - val_accuracy: 0.9814\n",
            "Epoch 17/20\n",
            "55/55 [==============================] - 2s 27ms/step - loss: 0.0754 - accuracy: 0.9767 - val_loss: 0.0661 - val_accuracy: 0.9812\n",
            "Epoch 18/20\n",
            "55/55 [==============================] - 2s 27ms/step - loss: 0.0699 - accuracy: 0.9787 - val_loss: 0.0699 - val_accuracy: 0.9804\n",
            "Epoch 19/20\n",
            "55/55 [==============================] - 2s 27ms/step - loss: 0.0678 - accuracy: 0.9789 - val_loss: 0.0659 - val_accuracy: 0.9808\n",
            "Epoch 20/20\n",
            "55/55 [==============================] - 1s 27ms/step - loss: 0.0628 - accuracy: 0.9805 - val_loss: 0.0626 - val_accuracy: 0.9818\n"
          ],
          "name": "stdout"
        }
      ]
    },
    {
      "cell_type": "code",
      "metadata": {
        "id": "Vap7tgypGRDC",
        "colab_type": "code",
        "colab": {
          "base_uri": "https://localhost:8080/",
          "height": 34
        },
        "outputId": "1ae77b07-4849-486a-f450-9b565d47b37a"
      },
      "source": [
        "model.metrics_names"
      ],
      "execution_count": 97,
      "outputs": [
        {
          "output_type": "execute_result",
          "data": {
            "text/plain": [
              "['loss', 'accuracy']"
            ]
          },
          "metadata": {
            "tags": []
          },
          "execution_count": 97
        }
      ]
    },
    {
      "cell_type": "code",
      "metadata": {
        "id": "cNAHmd-lx8BE",
        "colab_type": "code",
        "colab": {
          "base_uri": "https://localhost:8080/",
          "height": 68
        },
        "outputId": "fab0b332-a79e-49ce-e97c-9cf3b3231cc0"
      },
      "source": [
        "test_loss, test_accuracy = regl_model.evaluate(test_images, y_test)\n",
        "print('Test loss: {}' .format(test_loss))\n",
        "print('Test accuracy: {}' .format(test_accuracy))"
      ],
      "execution_count": 98,
      "outputs": [
        {
          "output_type": "stream",
          "text": [
            "313/313 [==============================] - 0s 2ms/step - loss: 0.0636 - accuracy: 0.9813\n",
            "Test loss: 0.06364275515079498\n",
            "Test accuracy: 0.9812999963760376\n"
          ],
          "name": "stdout"
        }
      ]
    },
    {
      "cell_type": "code",
      "metadata": {
        "id": "Ng5W64jpyPOw",
        "colab_type": "code",
        "colab": {
          "base_uri": "https://localhost:8080/",
          "height": 453
        },
        "outputId": "ca66704f-4759-4621-e3fe-bc48966a3a01"
      },
      "source": [
        "plt.subplots_adjust(hspace=1)\n",
        "plt.figure(figsize=(15,7))\n",
        "# fig, (ax1, ax2) = plt.subplots(1, 2)\n",
        "plt.subplot(1, 2, 1)\n",
        "plot_loss_curves(history)\n",
        "plt.subplot(1, 2, 2)\n",
        "plot_loss_curves(regl_history)\n",
        "# plt.tight_layout()"
      ],
      "execution_count": 99,
      "outputs": [
        {
          "output_type": "display_data",
          "data": {
            "text/plain": [
              "<Figure size 432x288 with 0 Axes>"
            ]
          },
          "metadata": {
            "tags": []
          }
        },
        {
          "output_type": "display_data",
          "data": {
            "image/png": "[encoded data removed]",
            "text/plain": [
              "<Figure size 1080x504 with 2 Axes>"
            ]
          },
          "metadata": {
            "tags": []
          }
        }
      ]
    },
    {
      "cell_type": "code",
      "metadata": {
        "id": "gzd_E2xk7zM5",
        "colab_type": "code",
        "colab": {
          "base_uri": "https://localhost:8080/",
          "height": 513
        },
        "outputId": "7e4fe224-7f84-4424-9234-2a3f5fef7f55"
      },
      "source": [
        "test_random_predictions()"
      ],
      "execution_count": 100,
      "outputs": [
        {
          "output_type": "display_data",
          "data": {
            "image/png": "[encoded data removed]",
            "text/plain": [
              "<Figure size 504x504 with 9 Axes>"
            ]
          },
          "metadata": {
            "tags": []
          }
        }
      ]
    }
  ]
}