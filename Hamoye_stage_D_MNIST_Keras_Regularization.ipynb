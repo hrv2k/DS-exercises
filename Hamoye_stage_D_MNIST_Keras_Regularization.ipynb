{
  "nbformat": 4,
  "nbformat_minor": 0,
  "metadata": {
    "colab": {
      "name": "Hamoye stage D  - MNIST Keras Regularization.ipynb",
      "provenance": [],
      "authorship_tag": "ABX9TyP1ZY7/oPDm6dbEJGK1LX3H",
      "include_colab_link": true
    },
    "kernelspec": {
      "name": "python3",
      "display_name": "Python 3"
    }
  },
  "cells": [
    {
      "cell_type": "markdown",
      "metadata": {
        "id": "view-in-github",
        "colab_type": "text"
      },
      "source": [
        "<a href=\"https://colab.research.google.com/github/kakiang/Hamoye-projects/blob/master/Hamoye_stage_D_MNIST_Keras_Regularization.ipynb\" target=\"_parent\"><img src=\"https://colab.research.google.com/assets/colab-badge.svg\" alt=\"Open In Colab\"/></a>"
      ]
    },
    {
      "cell_type": "markdown",
      "metadata": {
        "id": "mRA6NP2QbA5K",
        "colab_type": "text"
      },
      "source": [
        "# Neural Networks, Image Recognition"
      ]
    },
    {
      "cell_type": "markdown",
      "metadata": {
        "id": "Xw5rOuuFa4XD",
        "colab_type": "text"
      },
      "source": [
        "## Introduction to Keras and Tensorflow with Python"
      ]
    },
    {
      "cell_type": "code",
      "metadata": {
        "id": "0NMDUGJXYXJl",
        "colab_type": "code",
        "colab": {
          "base_uri": "https://localhost:8080/",
          "height": 71
        },
        "outputId": "4db2797c-c771-4939-9401-3aa9c71a42cd"
      },
      "source": [
        "import random\n",
        "import numpy as np\n",
        "import pandas as pd\n",
        "import matplotlib.pyplot as plt\n",
        "import seaborn as sns\n",
        "import tensorflow as tf\n",
        "from tensorflow import keras\n",
        "sns.set_style(\"white\")"
      ],
      "execution_count": 1,
      "outputs": [
        {
          "output_type": "stream",
          "text": [
            "/usr/local/lib/python3.6/dist-packages/statsmodels/tools/_testing.py:19: FutureWarning: pandas.util.testing is deprecated. Use the functions in the public API at pandas.testing instead.\n",
            "  import pandas.util.testing as tm\n"
          ],
          "name": "stderr"
        }
      ]
    },
    {
      "cell_type": "code",
      "metadata": {
        "id": "ZMyK5IE3cbgL",
        "colab_type": "code",
        "colab": {
          "base_uri": "https://localhost:8080/",
          "height": 34
        },
        "outputId": "78905f68-124a-4ee1-af37-4cf94d1b66e5"
      },
      "source": [
        "print(tf.__version__)"
      ],
      "execution_count": 2,
      "outputs": [
        {
          "output_type": "stream",
          "text": [
            "2.3.0\n"
          ],
          "name": "stdout"
        }
      ]
    },
    {
      "cell_type": "code",
      "metadata": {
        "id": "wzyjCY6sY87e",
        "colab_type": "code",
        "colab": {}
      },
      "source": [
        "mnist = keras.datasets.mnist"
      ],
      "execution_count": 3,
      "outputs": []
    },
    {
      "cell_type": "code",
      "metadata": {
        "id": "cZqjdplcZF8Z",
        "colab_type": "code",
        "colab": {}
      },
      "source": [
        "(train_images, train_labels), (test_images, test_labels) = mnist.load_data()"
      ],
      "execution_count": 4,
      "outputs": []
    },
    {
      "cell_type": "code",
      "metadata": {
        "id": "0hvCPWeKZOj3",
        "colab_type": "code",
        "colab": {
          "base_uri": "https://localhost:8080/",
          "height": 34
        },
        "outputId": "60a32cac-9565-4dc5-e3eb-66eba531ab16"
      },
      "source": [
        "train_images.shape, train_labels.shape"
      ],
      "execution_count": 5,
      "outputs": [
        {
          "output_type": "execute_result",
          "data": {
            "text/plain": [
              "((60000, 28, 28), (60000,))"
            ]
          },
          "metadata": {
            "tags": []
          },
          "execution_count": 5
        }
      ]
    },
    {
      "cell_type": "code",
      "metadata": {
        "id": "qnPi040IZiio",
        "colab_type": "code",
        "colab": {
          "base_uri": "https://localhost:8080/",
          "height": 34
        },
        "outputId": "1d610f1d-44fe-4a98-b053-d0111fe4be13"
      },
      "source": [
        "test_images.shape, test_labels.shape"
      ],
      "execution_count": 6,
      "outputs": [
        {
          "output_type": "execute_result",
          "data": {
            "text/plain": [
              "((10000, 28, 28), (10000,))"
            ]
          },
          "metadata": {
            "tags": []
          },
          "execution_count": 6
        }
      ]
    },
    {
      "cell_type": "code",
      "metadata": {
        "id": "LwcddokzZqFq",
        "colab_type": "code",
        "colab": {
          "base_uri": "https://localhost:8080/",
          "height": 34
        },
        "outputId": "8680c37c-664f-4dca-cbca-17a2ffd69edf"
      },
      "source": [
        "class_labels = np.unique(train_labels)\n",
        "class_labels"
      ],
      "execution_count": 7,
      "outputs": [
        {
          "output_type": "execute_result",
          "data": {
            "text/plain": [
              "array([0, 1, 2, 3, 4, 5, 6, 7, 8, 9], dtype=uint8)"
            ]
          },
          "metadata": {
            "tags": []
          },
          "execution_count": 7
        }
      ]
    },
    {
      "cell_type": "code",
      "metadata": {
        "id": "sOv65sCdZ5tt",
        "colab_type": "code",
        "colab": {
          "base_uri": "https://localhost:8080/",
          "height": 51
        },
        "outputId": "3b3bde03-a323-4b77-988f-e01210ea53f3"
      },
      "source": [
        "print(f'There are {len(class_labels)} classes in the dataset')\n",
        "print(f'They are: {class_labels}')"
      ],
      "execution_count": 8,
      "outputs": [
        {
          "output_type": "stream",
          "text": [
            "There are 10 classes in the dataset\n",
            "They are: [0 1 2 3 4 5 6 7 8 9]\n"
          ],
          "name": "stdout"
        }
      ]
    },
    {
      "cell_type": "markdown",
      "metadata": {
        "id": "6s13FPA1bHaN",
        "colab_type": "text"
      },
      "source": [
        "### Looking at the digits"
      ]
    },
    {
      "cell_type": "code",
      "metadata": {
        "id": "-BEt4wBOasoZ",
        "colab_type": "code",
        "colab": {
          "base_uri": "https://localhost:8080/",
          "height": 432
        },
        "outputId": "a1bd311a-0ae9-4358-d81f-8bfe16820333"
      },
      "source": [
        "def show_image_sample():\n",
        "  plt.figure(figsize=(7,7))\n",
        "  for i in range(6):\n",
        "    num = random.randint(0, len(train_images))\n",
        "    plt.subplot(2,3,i+1)\n",
        "    plt.imshow(train_images[num], cmap='Greys')\n",
        "    plt.title('Label: {}'.format(train_labels[num]))\n",
        "  plt.tight_layout()\n",
        "\n",
        "show_image_sample()"
      ],
      "execution_count": 9,
      "outputs": [
        {
          "output_type": "display_data",
          "data": {
            "image/png": "[encoded data removed]",
            "text/plain": [
              "<Figure size 504x504 with 6 Axes>"
            ]
          },
          "metadata": {
            "tags": [],
            "needs_background": "light"
          }
        }
      ]
    },
    {
      "cell_type": "markdown",
      "metadata": {
        "id": "_HFFdgIAd9sO",
        "colab_type": "text"
      },
      "source": [
        "### Processing the images"
      ]
    },
    {
      "cell_type": "markdown",
      "metadata": {
        "id": "2aaehAwofxCZ",
        "colab_type": "text"
      },
      "source": [
        "#### We scale our dataset to range between 0 and 1. In this dataset, the pixel values range from 0 to 255. Dividing the data by 255 normalizes pixel values using minmax (values between 0 and 1 inclusive)"
      ]
    },
    {
      "cell_type": "code",
      "metadata": {
        "id": "cwNKHsdPb3XF",
        "colab_type": "code",
        "colab": {}
      },
      "source": [
        "train_images = train_images / 255.0\n",
        "test_images = test_images / 255.0"
      ],
      "execution_count": 10,
      "outputs": []
    },
    {
      "cell_type": "code",
      "metadata": {
        "id": "E0ZPAonBehkV",
        "colab_type": "code",
        "colab": {}
      },
      "source": [
        "# show_image_sample()"
      ],
      "execution_count": 11,
      "outputs": []
    },
    {
      "cell_type": "markdown",
      "metadata": {
        "id": "K-BLMbZLfk09",
        "colab_type": "text"
      },
      "source": [
        "#### Reshape data from 28 x 28 array to a 784 1D  array"
      ]
    },
    {
      "cell_type": "code",
      "metadata": {
        "id": "3882Xp0xfVnB",
        "colab_type": "code",
        "colab": {}
      },
      "source": [
        "# reshape 28 x 28 matrices into 784-length vectors\n",
        "new_dim = np.prod(train_images.shape[1:])\n",
        "train_images = train_images.reshape(train_images.shape[0], new_dim)\n",
        "test_images = test_images.reshape(test_images.shape[0], new_dim)"
      ],
      "execution_count": 12,
      "outputs": []
    },
    {
      "cell_type": "markdown",
      "metadata": {
        "id": "n2TAi4zJewee",
        "colab_type": "text"
      },
      "source": [
        "#### Split training data into training and validation data"
      ]
    },
    {
      "cell_type": "code",
      "metadata": {
        "id": "6FC4qKuFerU1",
        "colab_type": "code",
        "colab": {
          "base_uri": "https://localhost:8080/",
          "height": 85
        },
        "outputId": "4ee48199-84fc-49ae-8040-9aa020b38c07"
      },
      "source": [
        "x_val = train_images[0:5000]\n",
        "x_train = train_images[5000:]\n",
        "\n",
        "y_val = train_labels[0:5000]\n",
        "y_train = train_labels[5000:]\n",
        "\n",
        "print(\"x_train: {}\" .format(x_train.shape))\n",
        "print(\"y_train: {}\" .format(y_train.shape))\n",
        "print(\"x_val: {}\" .format(x_val.shape))\n",
        "print(\"y_val: {}\" .format(y_val.shape))"
      ],
      "execution_count": 13,
      "outputs": [
        {
          "output_type": "stream",
          "text": [
            "x_train: (55000, 784)\n",
            "y_train: (55000,)\n",
            "x_val: (5000, 784)\n",
            "y_val: (5000,)\n"
          ],
          "name": "stdout"
        }
      ]
    },
    {
      "cell_type": "markdown",
      "metadata": {
        "id": "z4WAfaY7l5Lm",
        "colab_type": "text"
      },
      "source": [
        "#### Encode labels to one-hot categorical format\n",
        "```\n",
        "0 -> [1, 0, 0, 0, 0, 0, 0, 0, 0]\n",
        "1 -> [0, 1, 0, 0, 0, 0, 0, 0, 0]\n",
        "2 -> [0, 0, 1, 0, 0, 0, 0, 0, 0]\n",
        "etc.\n",
        "```"
      ]
    },
    {
      "cell_type": "code",
      "metadata": {
        "id": "Bu85wnP7jxhd",
        "colab_type": "code",
        "colab": {}
      },
      "source": [
        "from tensorflow.keras.utils import to_categorical\n",
        "\n",
        "nb_classes = 10\n",
        "y_train = to_categorical(y_train, nb_classes)\n",
        "y_val = to_categorical(y_val, nb_classes)\n",
        "y_test = to_categorical(test_labels, nb_classes)"
      ],
      "execution_count": 14,
      "outputs": []
    },
    {
      "cell_type": "code",
      "metadata": {
        "id": "A0TQyJvMmtxD",
        "colab_type": "code",
        "colab": {
          "base_uri": "https://localhost:8080/",
          "height": 34
        },
        "outputId": "7c25f06c-6911-45a6-fff1-717b981e210e"
      },
      "source": [
        "x_train.size"
      ],
      "execution_count": 15,
      "outputs": [
        {
          "output_type": "execute_result",
          "data": {
            "text/plain": [
              "43120000"
            ]
          },
          "metadata": {
            "tags": []
          },
          "execution_count": 15
        }
      ]
    },
    {
      "cell_type": "markdown",
      "metadata": {
        "id": "54s-efeuWANj",
        "colab_type": "text"
      },
      "source": [
        "## Building a Sequential Feed Forward Network in Keras"
      ]
    },
    {
      "cell_type": "markdown",
      "metadata": {
        "id": "_Qvy3JXzZe4H",
        "colab_type": "text"
      },
      "source": [
        "### Create the tf.keras.Sequential model by stacking layers"
      ]
    },
    {
      "cell_type": "code",
      "metadata": {
        "id": "HS84W1zaPcr0",
        "colab_type": "code",
        "colab": {
          "base_uri": "https://localhost:8080/",
          "height": 255
        },
        "outputId": "8715b9a7-c04d-43ae-9eae-9dab2c2af1de"
      },
      "source": [
        "from keras.layers import Dense\n",
        "from keras.models import Sequential\n",
        "\n",
        "model = Sequential()\n",
        "# An \"activation\" is a non-linear function applied to the output of the layer above.\n",
        "# It checks the new value of the node, and decides whether that artifical neuron has \n",
        "# fired. The Rectified Linear Unit (ReLU) converts all negative inputs to nodes in the \n",
        "# next layer to be zero. Those inputs are then not considered to be fired.\n",
        "# Positive values of a node are unchanged. R(x)=max(0,x)\n",
        "model.add(Dense(256, activation='relu', input_shape=(new_dim,)))\n",
        "model.add(Dense(128, activation='relu'))\n",
        "# The \"softmax\" activation represents a probability distribution over K different possible\n",
        "# outcomes. Its values are all non-negative and sum to 1.\n",
        "model.add(Dense(nb_classes, activation='softmax'))\n",
        "# Summarize the built model\n",
        "model.summary()"
      ],
      "execution_count": 16,
      "outputs": [
        {
          "output_type": "stream",
          "text": [
            "Model: \"sequential\"\n",
            "_________________________________________________________________\n",
            "Layer (type)                 Output Shape              Param #   \n",
            "=================================================================\n",
            "dense (Dense)                (None, 256)               200960    \n",
            "_________________________________________________________________\n",
            "dense_1 (Dense)              (None, 128)               32896     \n",
            "_________________________________________________________________\n",
            "dense_2 (Dense)              (None, 10)                1290      \n",
            "=================================================================\n",
            "Total params: 235,146\n",
            "Trainable params: 235,146\n",
            "Non-trainable params: 0\n",
            "_________________________________________________________________\n"
          ],
          "name": "stdout"
        }
      ]
    },
    {
      "cell_type": "markdown",
      "metadata": {
        "id": "Mgee34m_ZKp5",
        "colab_type": "text"
      },
      "source": [
        "### Compiling the model"
      ]
    },
    {
      "cell_type": "code",
      "metadata": {
        "id": "6tVep0Z_ZNRR",
        "colab_type": "code",
        "colab": {}
      },
      "source": [
        "# We use the Adam optimizer for learning \n",
        "model.compile(optimizer='adam', loss=keras.losses.categorical_crossentropy,\n",
        "              metrics=['accuracy'])"
      ],
      "execution_count": 17,
      "outputs": []
    },
    {
      "cell_type": "markdown",
      "metadata": {
        "id": "5f9bcoU0bAId",
        "colab_type": "text"
      },
      "source": [
        "### Train the model"
      ]
    },
    {
      "cell_type": "code",
      "metadata": {
        "id": "J1WkL6i8bB46",
        "colab_type": "code",
        "colab": {
          "base_uri": "https://localhost:8080/",
          "height": 717
        },
        "outputId": "92a5d5ff-6620-48b9-829e-66e2ccf4ac7f"
      },
      "source": [
        "history = model.fit(x_train, y_train, validation_data=(x_val, y_val),\n",
        "                    batch_size=1000, epochs=20, verbose=1)"
      ],
      "execution_count": 18,
      "outputs": [
        {
          "output_type": "stream",
          "text": [
            "Epoch 1/20\n",
            "55/55 [==============================] - 1s 26ms/step - loss: 0.6388 - accuracy: 0.8303 - val_loss: 0.2510 - val_accuracy: 0.9284\n",
            "Epoch 2/20\n",
            "55/55 [==============================] - 1s 23ms/step - loss: 0.2213 - accuracy: 0.9370 - val_loss: 0.1741 - val_accuracy: 0.9536\n",
            "Epoch 3/20\n",
            "55/55 [==============================] - 1s 23ms/step - loss: 0.1592 - accuracy: 0.9550 - val_loss: 0.1385 - val_accuracy: 0.9626\n",
            "Epoch 4/20\n",
            "55/55 [==============================] - 1s 23ms/step - loss: 0.1254 - accuracy: 0.9639 - val_loss: 0.1217 - val_accuracy: 0.9658\n",
            "Epoch 5/20\n",
            "55/55 [==============================] - 1s 23ms/step - loss: 0.1013 - accuracy: 0.9710 - val_loss: 0.1040 - val_accuracy: 0.9706\n",
            "Epoch 6/20\n",
            "55/55 [==============================] - 1s 23ms/step - loss: 0.0834 - accuracy: 0.9762 - val_loss: 0.0940 - val_accuracy: 0.9740\n",
            "Epoch 7/20\n",
            "55/55 [==============================] - 1s 23ms/step - loss: 0.0701 - accuracy: 0.9799 - val_loss: 0.0861 - val_accuracy: 0.9766\n",
            "Epoch 8/20\n",
            "55/55 [==============================] - 1s 24ms/step - loss: 0.0588 - accuracy: 0.9832 - val_loss: 0.0808 - val_accuracy: 0.9766\n",
            "Epoch 9/20\n",
            "55/55 [==============================] - 1s 23ms/step - loss: 0.0494 - accuracy: 0.9860 - val_loss: 0.0836 - val_accuracy: 0.9746\n",
            "Epoch 10/20\n",
            "55/55 [==============================] - 1s 23ms/step - loss: 0.0435 - accuracy: 0.9878 - val_loss: 0.0776 - val_accuracy: 0.9778\n",
            "Epoch 11/20\n",
            "55/55 [==============================] - 1s 23ms/step - loss: 0.0378 - accuracy: 0.9897 - val_loss: 0.0728 - val_accuracy: 0.9798\n",
            "Epoch 12/20\n",
            "55/55 [==============================] - 1s 23ms/step - loss: 0.0309 - accuracy: 0.9920 - val_loss: 0.0746 - val_accuracy: 0.9792\n",
            "Epoch 13/20\n",
            "55/55 [==============================] - 1s 23ms/step - loss: 0.0267 - accuracy: 0.9932 - val_loss: 0.0679 - val_accuracy: 0.9810\n",
            "Epoch 14/20\n",
            "55/55 [==============================] - 1s 23ms/step - loss: 0.0230 - accuracy: 0.9944 - val_loss: 0.0665 - val_accuracy: 0.9818\n",
            "Epoch 15/20\n",
            "55/55 [==============================] - 1s 23ms/step - loss: 0.0195 - accuracy: 0.9959 - val_loss: 0.0706 - val_accuracy: 0.9800\n",
            "Epoch 16/20\n",
            "55/55 [==============================] - 1s 24ms/step - loss: 0.0166 - accuracy: 0.9967 - val_loss: 0.0668 - val_accuracy: 0.9818\n",
            "Epoch 17/20\n",
            "55/55 [==============================] - 1s 23ms/step - loss: 0.0143 - accuracy: 0.9974 - val_loss: 0.0736 - val_accuracy: 0.9820\n",
            "Epoch 18/20\n",
            "55/55 [==============================] - 1s 23ms/step - loss: 0.0132 - accuracy: 0.9973 - val_loss: 0.0688 - val_accuracy: 0.9812\n",
            "Epoch 19/20\n",
            "55/55 [==============================] - 1s 23ms/step - loss: 0.0108 - accuracy: 0.9983 - val_loss: 0.0694 - val_accuracy: 0.9822\n",
            "Epoch 20/20\n",
            "55/55 [==============================] - 1s 23ms/step - loss: 0.0089 - accuracy: 0.9988 - val_loss: 0.0724 - val_accuracy: 0.9808\n"
          ],
          "name": "stdout"
        }
      ]
    },
    {
      "cell_type": "markdown",
      "metadata": {
        "id": "WywEM_ujbrGk",
        "colab_type": "text"
      },
      "source": [
        "### Evaluate Model's Accuracy on Test Data"
      ]
    },
    {
      "cell_type": "code",
      "metadata": {
        "id": "6YiG6utEbsux",
        "colab_type": "code",
        "colab": {
          "base_uri": "https://localhost:8080/",
          "height": 68
        },
        "outputId": "22ab2dcd-033c-4c32-8fa8-037efb7eb35a"
      },
      "source": [
        "print(\"Evaluate on test data\")\n",
        "model.evaluate(test_images, y_test, verbose=2)\n",
        "# print('Test loss:', test_loss)\n",
        "# print('Test accuracy:', test_accuracy)"
      ],
      "execution_count": 19,
      "outputs": [
        {
          "output_type": "stream",
          "text": [
            "Evaluate on test data\n",
            "313/313 - 0s - loss: 0.0752 - accuracy: 0.9782\n"
          ],
          "name": "stdout"
        },
        {
          "output_type": "execute_result",
          "data": {
            "text/plain": [
              "[0.07523202896118164, 0.9782000184059143]"
            ]
          },
          "metadata": {
            "tags": []
          },
          "execution_count": 19
        }
      ]
    },
    {
      "cell_type": "code",
      "metadata": {
        "id": "oVmhaKoWtyEp",
        "colab_type": "code",
        "colab": {
          "base_uri": "https://localhost:8080/",
          "height": 513
        },
        "outputId": "a7c5d38e-027d-43c9-c6f4-4e5eff636158"
      },
      "source": [
        "# Generate predictions (probabilities -- the output of the last layer)\n",
        "# on new data using `predict` \n",
        "\n",
        "# print(\"Generate predictions for 3 samples\")\n",
        "# predictions = model.predict(test_images[:3])\n",
        "# print(\"predictions shape:\", predictions.shape)\n",
        "def test_random_predictions():\n",
        "  plt.figure(figsize=(7,7))\n",
        "  for i in range(9):\n",
        "    plt.subplot(3,3,i+1)\n",
        "    index = random.randint(0, len(test_images))\n",
        "    plt.imshow(test_images[index].reshape(28, 28), cmap='Greys')\n",
        "    pred = model.predict(test_images[index].reshape(1, new_dim))\n",
        "    plt.title('Pred:{} Correct:{}'.format(pred.argmax(), y_test[index].argmax()))\n",
        "  plt.tight_layout()\n",
        "\n",
        "test_random_predictions()"
      ],
      "execution_count": 20,
      "outputs": [
        {
          "output_type": "display_data",
          "data": {
            "image/png": "[encoded data removed]",
            "text/plain": [
              "<Figure size 504x504 with 9 Axes>"
            ]
          },
          "metadata": {
            "tags": [],
            "needs_background": "light"
          }
        }
      ]
    },
    {
      "cell_type": "markdown",
      "metadata": {
        "id": "rc9bAsePgA12",
        "colab_type": "text"
      },
      "source": [
        "### Plot Loss Curves to Check for Overfitting"
      ]
    },
    {
      "cell_type": "code",
      "metadata": {
        "id": "RfSUfdS-cf_i",
        "colab_type": "code",
        "colab": {
          "base_uri": "https://localhost:8080/",
          "height": 295
        },
        "outputId": "3574b4c8-6a71-4bf7-e32d-bdde6afbc1d3"
      },
      "source": [
        "# plt.figure()\n",
        "def plot_loss_curves(history):\n",
        "  plt.plot(history.history['loss'], 'blue' )\n",
        "  plt.plot(history.history['val_loss'], 'red' )\n",
        "  plt.legend(['Training loss' , 'Validation Loss'])\n",
        "  plt.xlabel('Epochs' )\n",
        "  plt.ylabel('Loss' )\n",
        "  plt.title('Loss Curves - before regularisation')\n",
        "\n",
        "plot_loss_curves(history)"
      ],
      "execution_count": 21,
      "outputs": [
        {
          "output_type": "display_data",
          "data": {
            "image/png": "[encoded data removed]",
            "text/plain": [
              "<Figure size 432x288 with 1 Axes>"
            ]
          },
          "metadata": {
            "tags": [],
            "needs_background": "light"
          }
        }
      ]
    },
    {
      "cell_type": "markdown",
      "metadata": {
        "id": "IZ9nlMoBpVZf",
        "colab_type": "text"
      },
      "source": [
        "Although the validation and training loss seem great, we can see that the validation loss increases. This identifies overfitting in our network. How do we proceed?"
      ]
    },
    {
      "cell_type": "code",
      "metadata": {
        "id": "rPrV7kFck6Ez",
        "colab_type": "code",
        "colab": {
          "base_uri": "https://localhost:8080/",
          "height": 323
        },
        "outputId": "04cddf46-09c6-40ac-9771-b40df7ed51e3"
      },
      "source": [
        "from keras.layers import Dropout\n",
        "\n",
        "regl_model = Sequential()\n",
        "regl_model.add(Dense(256, activation='relu', input_shape=(new_dim,)))\n",
        "regl_model.add(Dropout(0.4))\n",
        "regl_model.add(Dense(128, activation='relu'))\n",
        "regl_model.add(Dropout(0.4))\n",
        "regl_model.add(Dense(nb_classes, activation='softmax'))\n",
        "regl_model.summary()"
      ],
      "execution_count": 22,
      "outputs": [
        {
          "output_type": "stream",
          "text": [
            "Model: \"sequential_1\"\n",
            "_________________________________________________________________\n",
            "Layer (type)                 Output Shape              Param #   \n",
            "=================================================================\n",
            "dense_3 (Dense)              (None, 256)               200960    \n",
            "_________________________________________________________________\n",
            "dropout (Dropout)            (None, 256)               0         \n",
            "_________________________________________________________________\n",
            "dense_4 (Dense)              (None, 128)               32896     \n",
            "_________________________________________________________________\n",
            "dropout_1 (Dropout)          (None, 128)               0         \n",
            "_________________________________________________________________\n",
            "dense_5 (Dense)              (None, 10)                1290      \n",
            "=================================================================\n",
            "Total params: 235,146\n",
            "Trainable params: 235,146\n",
            "Non-trainable params: 0\n",
            "_________________________________________________________________\n"
          ],
          "name": "stdout"
        }
      ]
    },
    {
      "cell_type": "code",
      "metadata": {
        "id": "6pc_O59Vxrxy",
        "colab_type": "code",
        "colab": {
          "base_uri": "https://localhost:8080/",
          "height": 717
        },
        "outputId": "3098827d-fdbc-4978-f629-188c7a9f1827"
      },
      "source": [
        "regl_model.compile(optimizer='adam', loss=keras.losses.categorical_crossentropy,\n",
        "              metrics=['accuracy'])\n",
        "\n",
        "regl_history = regl_model.fit(x_train, y_train, validation_data=(x_val, y_val),\n",
        "                    batch_size=1000, epochs=20, verbose=1)"
      ],
      "execution_count": 23,
      "outputs": [
        {
          "output_type": "stream",
          "text": [
            "Epoch 1/20\n",
            "55/55 [==============================] - 2s 30ms/step - loss: 0.9283 - accuracy: 0.7042 - val_loss: 0.2897 - val_accuracy: 0.9188\n",
            "Epoch 2/20\n",
            "55/55 [==============================] - 2s 28ms/step - loss: 0.3592 - accuracy: 0.8934 - val_loss: 0.1945 - val_accuracy: 0.9434\n",
            "Epoch 3/20\n",
            "55/55 [==============================] - 2s 28ms/step - loss: 0.2678 - accuracy: 0.9212 - val_loss: 0.1530 - val_accuracy: 0.9542\n",
            "Epoch 4/20\n",
            "55/55 [==============================] - 2s 28ms/step - loss: 0.2193 - accuracy: 0.9352 - val_loss: 0.1308 - val_accuracy: 0.9636\n",
            "Epoch 5/20\n",
            "55/55 [==============================] - 2s 28ms/step - loss: 0.1902 - accuracy: 0.9458 - val_loss: 0.1183 - val_accuracy: 0.9668\n",
            "Epoch 6/20\n",
            "55/55 [==============================] - 2s 28ms/step - loss: 0.1667 - accuracy: 0.9497 - val_loss: 0.1088 - val_accuracy: 0.9692\n",
            "Epoch 7/20\n",
            "55/55 [==============================] - 2s 28ms/step - loss: 0.1510 - accuracy: 0.9562 - val_loss: 0.0961 - val_accuracy: 0.9728\n",
            "Epoch 8/20\n",
            "55/55 [==============================] - 2s 28ms/step - loss: 0.1367 - accuracy: 0.9603 - val_loss: 0.0893 - val_accuracy: 0.9742\n",
            "Epoch 9/20\n",
            "55/55 [==============================] - 2s 28ms/step - loss: 0.1245 - accuracy: 0.9637 - val_loss: 0.0868 - val_accuracy: 0.9740\n",
            "Epoch 10/20\n",
            "55/55 [==============================] - 2s 28ms/step - loss: 0.1147 - accuracy: 0.9655 - val_loss: 0.0821 - val_accuracy: 0.9768\n",
            "Epoch 11/20\n",
            "55/55 [==============================] - 2s 28ms/step - loss: 0.1084 - accuracy: 0.9671 - val_loss: 0.0757 - val_accuracy: 0.9792\n",
            "Epoch 12/20\n",
            "55/55 [==============================] - 2s 28ms/step - loss: 0.1005 - accuracy: 0.9700 - val_loss: 0.0768 - val_accuracy: 0.9788\n",
            "Epoch 13/20\n",
            "55/55 [==============================] - 2s 28ms/step - loss: 0.0929 - accuracy: 0.9719 - val_loss: 0.0711 - val_accuracy: 0.9790\n",
            "Epoch 14/20\n",
            "55/55 [==============================] - 2s 28ms/step - loss: 0.0866 - accuracy: 0.9734 - val_loss: 0.0679 - val_accuracy: 0.9804\n",
            "Epoch 15/20\n",
            "55/55 [==============================] - 2s 28ms/step - loss: 0.0821 - accuracy: 0.9749 - val_loss: 0.0684 - val_accuracy: 0.9804\n",
            "Epoch 16/20\n",
            "55/55 [==============================] - 2s 28ms/step - loss: 0.0780 - accuracy: 0.9762 - val_loss: 0.0645 - val_accuracy: 0.9812\n",
            "Epoch 17/20\n",
            "55/55 [==============================] - 2s 28ms/step - loss: 0.0728 - accuracy: 0.9772 - val_loss: 0.0644 - val_accuracy: 0.9830\n",
            "Epoch 18/20\n",
            "55/55 [==============================] - 2s 28ms/step - loss: 0.0697 - accuracy: 0.9785 - val_loss: 0.0624 - val_accuracy: 0.9816\n",
            "Epoch 19/20\n",
            "55/55 [==============================] - 2s 28ms/step - loss: 0.0682 - accuracy: 0.9795 - val_loss: 0.0644 - val_accuracy: 0.9822\n",
            "Epoch 20/20\n",
            "55/55 [==============================] - 2s 28ms/step - loss: 0.0645 - accuracy: 0.9801 - val_loss: 0.0668 - val_accuracy: 0.9818\n"
          ],
          "name": "stdout"
        }
      ]
    },
    {
      "cell_type": "code",
      "metadata": {
        "id": "Vap7tgypGRDC",
        "colab_type": "code",
        "colab": {
          "base_uri": "https://localhost:8080/",
          "height": 34
        },
        "outputId": "61899833-1161-4f86-c210-cb7c70e9777f"
      },
      "source": [
        "model.metrics_names"
      ],
      "execution_count": 24,
      "outputs": [
        {
          "output_type": "execute_result",
          "data": {
            "text/plain": [
              "['loss', 'accuracy']"
            ]
          },
          "metadata": {
            "tags": []
          },
          "execution_count": 24
        }
      ]
    },
    {
      "cell_type": "code",
      "metadata": {
        "id": "cNAHmd-lx8BE",
        "colab_type": "code",
        "colab": {
          "base_uri": "https://localhost:8080/",
          "height": 68
        },
        "outputId": "af719b94-4376-41d3-b9a0-eabc7467cabf"
      },
      "source": [
        "test_loss, test_accuracy = regl_model.evaluate(test_images, y_test)\n",
        "print('Test loss: {}' .format(test_loss))\n",
        "print('Test accuracy: {}' .format(test_accuracy))"
      ],
      "execution_count": 25,
      "outputs": [
        {
          "output_type": "stream",
          "text": [
            "313/313 [==============================] - 1s 2ms/step - loss: 0.0666 - accuracy: 0.9801\n",
            "Test loss: 0.06656856834888458\n",
            "Test accuracy: 0.9800999760627747\n"
          ],
          "name": "stdout"
        }
      ]
    },
    {
      "cell_type": "code",
      "metadata": {
        "id": "Ng5W64jpyPOw",
        "colab_type": "code",
        "colab": {
          "base_uri": "https://localhost:8080/",
          "height": 453
        },
        "outputId": "f2de61a0-6bcb-4f5b-fdaf-92956b339829"
      },
      "source": [
        "plt.subplots_adjust(hspace=1)\n",
        "plt.figure(figsize=(15,7))\n",
        "# fig, (ax1, ax2) = plt.subplots(1, 2)\n",
        "plt.subplot(1, 2, 1)\n",
        "plot_loss_curves(history)\n",
        "plt.subplot(1, 2, 2)\n",
        "plot_loss_curves(regl_history)\n",
        "# plt.tight_layout()"
      ],
      "execution_count": 28,
      "outputs": [
        {
          "output_type": "display_data",
          "data": {
            "text/plain": [
              "<Figure size 432x288 with 0 Axes>"
            ]
          },
          "metadata": {
            "tags": []
          }
        },
        {
          "output_type": "display_data",
          "data": {
            "image/png": "[encoded data removed]",
            "text/plain": [
              "<Figure size 1080x504 with 2 Axes>"
            ]
          },
          "metadata": {
            "tags": [],
            "needs_background": "light"
          }
        }
      ]
    },
    {
      "cell_type": "code",
      "metadata": {
        "id": "gzd_E2xk7zM5",
        "colab_type": "code",
        "colab": {
          "base_uri": "https://localhost:8080/",
          "height": 513
        },
        "outputId": "62894baf-20c2-4fb0-9a89-edd44c8116e1"
      },
      "source": [
        "test_random_predictions()"
      ],
      "execution_count": 29,
      "outputs": [
        {
          "output_type": "display_data",
          "data": {
            "image/png": "[encoded data removed]",
            "text/plain": [
              "<Figure size 504x504 with 9 Axes>"
            ]
          },
          "metadata": {
            "tags": [],
            "needs_background": "light"
          }
        }
      ]
    }
  ]
}