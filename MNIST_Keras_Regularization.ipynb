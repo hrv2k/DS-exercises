{
  "nbformat": 4,
  "nbformat_minor": 0,
  "metadata": {
    "colab": {
      "name": "Hamoye stage D  - MNIST Keras Regularization.ipynb",
      "provenance": [],
      "authorship_tag": "ABX9TyMtHk6SLeumppQOzlKFPHk8",
      "include_colab_link": true
    },
    "kernelspec": {
      "name": "python3",
      "display_name": "Python 3"
    }
  },
  "cells": [
    {
      "cell_type": "markdown",
      "metadata": {
        "id": "view-in-github",
        "colab_type": "text"
      },
      "source": [
        "<a href=\"https://colab.research.google.com/github/kakiang/Hamoye-projects/blob/master/Hamoye_stage_D_MNIST_Keras_Regularization.ipynb\" target=\"_parent\"><img src=\"https://colab.research.google.com/assets/colab-badge.svg\" alt=\"Open In Colab\"/></a>"
      ]
    },
    {
      "cell_type": "markdown",
      "metadata": {
        "id": "mRA6NP2QbA5K",
        "colab_type": "text"
      },
      "source": [
        "# Neural Networks, Image Recognition"
      ]
    },
    {
      "cell_type": "markdown",
      "metadata": {
        "id": "Xw5rOuuFa4XD",
        "colab_type": "text"
      },
      "source": [
        "## Introduction to Keras and Tensorflow with Python"
      ]
    },
    {
      "cell_type": "code",
      "metadata": {
        "id": "0NMDUGJXYXJl",
        "colab_type": "code",
        "colab": {}
      },
      "source": [
        "import random\n",
        "import numpy as np\n",
        "import pandas as pd\n",
        "import matplotlib.pyplot as plt\n",
        "import seaborn as sns\n",
        "import tensorflow as tf\n",
        "from tensorflow import keras\n",
        "sns.set_style(\"white\")"
      ],
      "execution_count": 31,
      "outputs": []
    },
    {
      "cell_type": "code",
      "metadata": {
        "id": "ZMyK5IE3cbgL",
        "colab_type": "code",
        "colab": {
          "base_uri": "https://localhost:8080/",
          "height": 34
        },
        "outputId": "9bcd4c5c-5479-4548-a517-654b10cdb746"
      },
      "source": [
        "print(tf.__version__)"
      ],
      "execution_count": 32,
      "outputs": [
        {
          "output_type": "stream",
          "text": [
            "2.3.0\n"
          ],
          "name": "stdout"
        }
      ]
    },
    {
      "cell_type": "code",
      "metadata": {
        "id": "wzyjCY6sY87e",
        "colab_type": "code",
        "colab": {}
      },
      "source": [
        "mnist = keras.datasets.mnist"
      ],
      "execution_count": 33,
      "outputs": []
    },
    {
      "cell_type": "code",
      "metadata": {
        "id": "cZqjdplcZF8Z",
        "colab_type": "code",
        "colab": {}
      },
      "source": [
        "(train_images, train_labels), (test_images, test_labels) = mnist.load_data()"
      ],
      "execution_count": 34,
      "outputs": []
    },
    {
      "cell_type": "code",
      "metadata": {
        "id": "0hvCPWeKZOj3",
        "colab_type": "code",
        "colab": {
          "base_uri": "https://localhost:8080/",
          "height": 34
        },
        "outputId": "5e89b837-7fab-4706-de6f-185fe782e225"
      },
      "source": [
        "train_images.shape, train_labels.shape"
      ],
      "execution_count": 35,
      "outputs": [
        {
          "output_type": "execute_result",
          "data": {
            "text/plain": [
              "((60000, 28, 28), (60000,))"
            ]
          },
          "metadata": {
            "tags": []
          },
          "execution_count": 35
        }
      ]
    },
    {
      "cell_type": "code",
      "metadata": {
        "id": "qnPi040IZiio",
        "colab_type": "code",
        "colab": {
          "base_uri": "https://localhost:8080/",
          "height": 34
        },
        "outputId": "c743e63e-a7b3-4f4d-ec62-36aba683344d"
      },
      "source": [
        "test_images.shape, test_labels.shape"
      ],
      "execution_count": 36,
      "outputs": [
        {
          "output_type": "execute_result",
          "data": {
            "text/plain": [
              "((10000, 28, 28), (10000,))"
            ]
          },
          "metadata": {
            "tags": []
          },
          "execution_count": 36
        }
      ]
    },
    {
      "cell_type": "code",
      "metadata": {
        "id": "LwcddokzZqFq",
        "colab_type": "code",
        "colab": {
          "base_uri": "https://localhost:8080/",
          "height": 34
        },
        "outputId": "52143d14-8871-4a55-b3c6-2ce979d6ac95"
      },
      "source": [
        "class_labels = np.unique(train_labels)\n",
        "class_labels"
      ],
      "execution_count": 37,
      "outputs": [
        {
          "output_type": "execute_result",
          "data": {
            "text/plain": [
              "array([0, 1, 2, 3, 4, 5, 6, 7, 8, 9], dtype=uint8)"
            ]
          },
          "metadata": {
            "tags": []
          },
          "execution_count": 37
        }
      ]
    },
    {
      "cell_type": "code",
      "metadata": {
        "id": "sOv65sCdZ5tt",
        "colab_type": "code",
        "colab": {
          "base_uri": "https://localhost:8080/",
          "height": 51
        },
        "outputId": "5543b78f-0b5d-451a-bba7-dc71c7947c98"
      },
      "source": [
        "print(f'There are {len(class_labels)} classes in the dataset')\n",
        "print(f'They are: {class_labels}')"
      ],
      "execution_count": 38,
      "outputs": [
        {
          "output_type": "stream",
          "text": [
            "There are 10 classes in the dataset\n",
            "They are: [0 1 2 3 4 5 6 7 8 9]\n"
          ],
          "name": "stdout"
        }
      ]
    },
    {
      "cell_type": "markdown",
      "metadata": {
        "id": "6s13FPA1bHaN",
        "colab_type": "text"
      },
      "source": [
        "### Looking at the digits"
      ]
    },
    {
      "cell_type": "code",
      "metadata": {
        "id": "-BEt4wBOasoZ",
        "colab_type": "code",
        "colab": {
          "base_uri": "https://localhost:8080/",
          "height": 432
        },
        "outputId": "69915b28-87ab-4a3a-f405-6083e108bf06"
      },
      "source": [
        "def show_image_sample():\n",
        "  plt.figure(figsize=(7,7))\n",
        "  for i in range(6):\n",
        "    num = random.randint(0, len(train_images))\n",
        "    plt.subplot(2,3,i+1)\n",
        "    plt.imshow(train_images[num], cmap='Greys')\n",
        "    plt.title('Label: {}'.format(train_labels[num]))\n",
        "  plt.tight_layout()\n",
        "\n",
        "show_image_sample()"
      ],
      "execution_count": 39,
      "outputs": [
        {
          "output_type": "display_data",
          "data": {
            "image/png": "[encoded data removed]",
            "text/plain": [
              "<Figure size 504x504 with 6 Axes>"
            ]
          },
          "metadata": {
            "tags": []
          }
        }
      ]
    },
    {
      "cell_type": "markdown",
      "metadata": {
        "id": "_HFFdgIAd9sO",
        "colab_type": "text"
      },
      "source": [
        "### Processing the images"
      ]
    },
    {
      "cell_type": "markdown",
      "metadata": {
        "id": "2aaehAwofxCZ",
        "colab_type": "text"
      },
      "source": [
        "#### We scale our dataset to range between 0 and 1. In this dataset, the pixel values range from 0 to 255. Dividing the data by 255 normalizes pixel values using minmax (values between 0 and 1 inclusive)"
      ]
    },
    {
      "cell_type": "code",
      "metadata": {
        "id": "cwNKHsdPb3XF",
        "colab_type": "code",
        "colab": {}
      },
      "source": [
        "train_images = train_images / 255.0\n",
        "test_images = test_images / 255.0"
      ],
      "execution_count": 40,
      "outputs": []
    },
    {
      "cell_type": "code",
      "metadata": {
        "id": "E0ZPAonBehkV",
        "colab_type": "code",
        "colab": {}
      },
      "source": [
        "# show_image_sample()"
      ],
      "execution_count": 41,
      "outputs": []
    },
    {
      "cell_type": "markdown",
      "metadata": {
        "id": "K-BLMbZLfk09",
        "colab_type": "text"
      },
      "source": [
        "#### Reshape data from 28 x 28 array to a 784 1D  array"
      ]
    },
    {
      "cell_type": "code",
      "metadata": {
        "id": "3882Xp0xfVnB",
        "colab_type": "code",
        "colab": {}
      },
      "source": [
        "# reshape 28 x 28 matrices into 784-length vectors\n",
        "new_dim = np.prod(train_images.shape[1:])\n",
        "train_images = train_images.reshape(train_images.shape[0], new_dim)\n",
        "test_images = test_images.reshape(test_images.shape[0], new_dim)"
      ],
      "execution_count": 42,
      "outputs": []
    },
    {
      "cell_type": "markdown",
      "metadata": {
        "id": "n2TAi4zJewee",
        "colab_type": "text"
      },
      "source": [
        "#### Split training data into training and validation data"
      ]
    },
    {
      "cell_type": "code",
      "metadata": {
        "id": "6FC4qKuFerU1",
        "colab_type": "code",
        "colab": {
          "base_uri": "https://localhost:8080/",
          "height": 85
        },
        "outputId": "2fd3eda4-b722-403b-fc0c-f12dc4adb52d"
      },
      "source": [
        "x_val = train_images[0:5000]\n",
        "x_train = train_images[5000:]\n",
        "\n",
        "y_val = train_labels[0:5000]\n",
        "y_train = train_labels[5000:]\n",
        "\n",
        "print(\"x_train: {}\" .format(x_train.shape))\n",
        "print(\"y_train: {}\" .format(y_train.shape))\n",
        "print(\"x_val: {}\" .format(x_val.shape))\n",
        "print(\"y_val: {}\" .format(y_val.shape))"
      ],
      "execution_count": 43,
      "outputs": [
        {
          "output_type": "stream",
          "text": [
            "x_train: (55000, 784)\n",
            "y_train: (55000,)\n",
            "x_val: (5000, 784)\n",
            "y_val: (5000,)\n"
          ],
          "name": "stdout"
        }
      ]
    },
    {
      "cell_type": "markdown",
      "metadata": {
        "id": "z4WAfaY7l5Lm",
        "colab_type": "text"
      },
      "source": [
        "#### Encode labels to one-hot categorical format\n",
        "```\n",
        "0 -> [1, 0, 0, 0, 0, 0, 0, 0, 0]\n",
        "1 -> [0, 1, 0, 0, 0, 0, 0, 0, 0]\n",
        "2 -> [0, 0, 1, 0, 0, 0, 0, 0, 0]\n",
        "etc.\n",
        "```"
      ]
    },
    {
      "cell_type": "code",
      "metadata": {
        "id": "Bu85wnP7jxhd",
        "colab_type": "code",
        "colab": {}
      },
      "source": [
        "from tensorflow.keras.utils import to_categorical\n",
        "\n",
        "nb_classes = 10\n",
        "y_train = to_categorical(y_train, nb_classes)\n",
        "y_val = to_categorical(y_val, nb_classes)\n",
        "y_test = to_categorical(test_labels, nb_classes)"
      ],
      "execution_count": 44,
      "outputs": []
    },
    {
      "cell_type": "code",
      "metadata": {
        "id": "A0TQyJvMmtxD",
        "colab_type": "code",
        "colab": {
          "base_uri": "https://localhost:8080/",
          "height": 34
        },
        "outputId": "a07333b7-c31c-4633-c596-c19ee685ad5f"
      },
      "source": [
        "x_train.size"
      ],
      "execution_count": 45,
      "outputs": [
        {
          "output_type": "execute_result",
          "data": {
            "text/plain": [
              "43120000"
            ]
          },
          "metadata": {
            "tags": []
          },
          "execution_count": 45
        }
      ]
    },
    {
      "cell_type": "markdown",
      "metadata": {
        "id": "54s-efeuWANj",
        "colab_type": "text"
      },
      "source": [
        "## Building a Sequential Feed Forward Network in Keras"
      ]
    },
    {
      "cell_type": "markdown",
      "metadata": {
        "id": "_Qvy3JXzZe4H",
        "colab_type": "text"
      },
      "source": [
        "### Create the tf.keras.Sequential model by stacking layers"
      ]
    },
    {
      "cell_type": "code",
      "metadata": {
        "id": "HS84W1zaPcr0",
        "colab_type": "code",
        "colab": {
          "base_uri": "https://localhost:8080/",
          "height": 255
        },
        "outputId": "009127e9-9b1a-4c76-82fe-a364b3b94bbb"
      },
      "source": [
        "from keras.layers import Dense\n",
        "from keras.models import Sequential\n",
        "\n",
        "model = Sequential()\n",
        "# An \"activation\" is a non-linear function applied to the output of the layer above.\n",
        "# It checks the new value of the node, and decides whether that artifical neuron has \n",
        "# fired. The Rectified Linear Unit (ReLU) converts all negative inputs to nodes in the \n",
        "# next layer to be zero. Those inputs are then not considered to be fired.\n",
        "# Positive values of a node are unchanged. R(x)=max(0,x)\n",
        "model.add(Dense(256, activation='relu', input_shape=(new_dim,)))\n",
        "model.add(Dense(128, activation='relu'))\n",
        "# The \"softmax\" activation represents a probability distribution over K different possible\n",
        "# outcomes. Its values are all non-negative and sum to 1.\n",
        "model.add(Dense(nb_classes, activation='softmax'))\n",
        "# Summarize the built model\n",
        "model.summary()"
      ],
      "execution_count": 46,
      "outputs": [
        {
          "output_type": "stream",
          "text": [
            "Model: \"sequential_2\"\n",
            "_________________________________________________________________\n",
            "Layer (type)                 Output Shape              Param #   \n",
            "=================================================================\n",
            "dense_6 (Dense)              (None, 256)               200960    \n",
            "_________________________________________________________________\n",
            "dense_7 (Dense)              (None, 128)               32896     \n",
            "_________________________________________________________________\n",
            "dense_8 (Dense)              (None, 10)                1290      \n",
            "=================================================================\n",
            "Total params: 235,146\n",
            "Trainable params: 235,146\n",
            "Non-trainable params: 0\n",
            "_________________________________________________________________\n"
          ],
          "name": "stdout"
        }
      ]
    },
    {
      "cell_type": "markdown",
      "metadata": {
        "id": "Mgee34m_ZKp5",
        "colab_type": "text"
      },
      "source": [
        "### Compiling the model"
      ]
    },
    {
      "cell_type": "code",
      "metadata": {
        "id": "6tVep0Z_ZNRR",
        "colab_type": "code",
        "colab": {}
      },
      "source": [
        "# We use the Adam optimizer for learning \n",
        "model.compile(optimizer='adam', loss=keras.losses.categorical_crossentropy,\n",
        "              metrics=['accuracy'])"
      ],
      "execution_count": 47,
      "outputs": []
    },
    {
      "cell_type": "markdown",
      "metadata": {
        "id": "5f9bcoU0bAId",
        "colab_type": "text"
      },
      "source": [
        "### Train the model"
      ]
    },
    {
      "cell_type": "code",
      "metadata": {
        "id": "J1WkL6i8bB46",
        "colab_type": "code",
        "colab": {
          "base_uri": "https://localhost:8080/",
          "height": 717
        },
        "outputId": "93e8b3c3-703d-4dbd-c7fe-5acbe4a31f3c"
      },
      "source": [
        "history = model.fit(x_train, y_train, validation_data=(x_val, y_val),\n",
        "                    batch_size=1000, epochs=20, verbose=1)"
      ],
      "execution_count": 48,
      "outputs": [
        {
          "output_type": "stream",
          "text": [
            "Epoch 1/20\n",
            "55/55 [==============================] - 1s 26ms/step - loss: 0.6419 - accuracy: 0.8291 - val_loss: 0.2414 - val_accuracy: 0.9292\n",
            "Epoch 2/20\n",
            "55/55 [==============================] - 1s 24ms/step - loss: 0.2159 - accuracy: 0.9377 - val_loss: 0.1648 - val_accuracy: 0.9512\n",
            "Epoch 3/20\n",
            "55/55 [==============================] - 1s 24ms/step - loss: 0.1561 - accuracy: 0.9553 - val_loss: 0.1336 - val_accuracy: 0.9630\n",
            "Epoch 4/20\n",
            "55/55 [==============================] - 1s 23ms/step - loss: 0.1214 - accuracy: 0.9646 - val_loss: 0.1142 - val_accuracy: 0.9676\n",
            "Epoch 5/20\n",
            "55/55 [==============================] - 1s 24ms/step - loss: 0.0991 - accuracy: 0.9714 - val_loss: 0.0981 - val_accuracy: 0.9720\n",
            "Epoch 6/20\n",
            "55/55 [==============================] - 1s 24ms/step - loss: 0.0814 - accuracy: 0.9762 - val_loss: 0.0896 - val_accuracy: 0.9750\n",
            "Epoch 7/20\n",
            "55/55 [==============================] - 1s 23ms/step - loss: 0.0698 - accuracy: 0.9799 - val_loss: 0.0846 - val_accuracy: 0.9748\n",
            "Epoch 8/20\n",
            "55/55 [==============================] - 1s 24ms/step - loss: 0.0577 - accuracy: 0.9834 - val_loss: 0.0764 - val_accuracy: 0.9782\n",
            "Epoch 9/20\n",
            "55/55 [==============================] - 1s 24ms/step - loss: 0.0492 - accuracy: 0.9865 - val_loss: 0.0721 - val_accuracy: 0.9778\n",
            "Epoch 10/20\n",
            "55/55 [==============================] - 1s 24ms/step - loss: 0.0427 - accuracy: 0.9881 - val_loss: 0.0712 - val_accuracy: 0.9782\n",
            "Epoch 11/20\n",
            "55/55 [==============================] - 1s 24ms/step - loss: 0.0365 - accuracy: 0.9900 - val_loss: 0.0680 - val_accuracy: 0.9802\n",
            "Epoch 12/20\n",
            "55/55 [==============================] - 1s 24ms/step - loss: 0.0308 - accuracy: 0.9922 - val_loss: 0.0698 - val_accuracy: 0.9768\n",
            "Epoch 13/20\n",
            "55/55 [==============================] - 1s 23ms/step - loss: 0.0262 - accuracy: 0.9937 - val_loss: 0.0685 - val_accuracy: 0.9794\n",
            "Epoch 14/20\n",
            "55/55 [==============================] - 1s 24ms/step - loss: 0.0230 - accuracy: 0.9944 - val_loss: 0.0652 - val_accuracy: 0.9808\n",
            "Epoch 15/20\n",
            "55/55 [==============================] - 1s 24ms/step - loss: 0.0201 - accuracy: 0.9953 - val_loss: 0.0666 - val_accuracy: 0.9796\n",
            "Epoch 16/20\n",
            "55/55 [==============================] - 1s 23ms/step - loss: 0.0169 - accuracy: 0.9966 - val_loss: 0.0676 - val_accuracy: 0.9802\n",
            "Epoch 17/20\n",
            "55/55 [==============================] - 1s 24ms/step - loss: 0.0147 - accuracy: 0.9971 - val_loss: 0.0652 - val_accuracy: 0.9808\n",
            "Epoch 18/20\n",
            "55/55 [==============================] - 1s 24ms/step - loss: 0.0124 - accuracy: 0.9977 - val_loss: 0.0650 - val_accuracy: 0.9810\n",
            "Epoch 19/20\n",
            "55/55 [==============================] - 1s 24ms/step - loss: 0.0112 - accuracy: 0.9979 - val_loss: 0.0644 - val_accuracy: 0.9812\n",
            "Epoch 20/20\n",
            "55/55 [==============================] - 1s 23ms/step - loss: 0.0088 - accuracy: 0.9989 - val_loss: 0.0643 - val_accuracy: 0.9810\n"
          ],
          "name": "stdout"
        }
      ]
    },
    {
      "cell_type": "markdown",
      "metadata": {
        "id": "WywEM_ujbrGk",
        "colab_type": "text"
      },
      "source": [
        "### Evaluate Model's Accuracy on Test Data"
      ]
    },
    {
      "cell_type": "code",
      "metadata": {
        "id": "6YiG6utEbsux",
        "colab_type": "code",
        "colab": {
          "base_uri": "https://localhost:8080/",
          "height": 68
        },
        "outputId": "402d1326-1d74-45e5-fd71-7b9674f5357f"
      },
      "source": [
        "print(\"Evaluate on test data\")\n",
        "model.evaluate(test_images, y_test, verbose=2)\n",
        "# print('Test loss:', test_loss)\n",
        "# print('Test accuracy:', test_accuracy)"
      ],
      "execution_count": 49,
      "outputs": [
        {
          "output_type": "stream",
          "text": [
            "Evaluate on test data\n",
            "313/313 - 0s - loss: 0.0695 - accuracy: 0.9787\n"
          ],
          "name": "stdout"
        },
        {
          "output_type": "execute_result",
          "data": {
            "text/plain": [
              "[0.06950558722019196, 0.9786999821662903]"
            ]
          },
          "metadata": {
            "tags": []
          },
          "execution_count": 49
        }
      ]
    },
    {
      "cell_type": "code",
      "metadata": {
        "id": "oVmhaKoWtyEp",
        "colab_type": "code",
        "colab": {
          "base_uri": "https://localhost:8080/",
          "height": 513
        },
        "outputId": "289dac86-b320-4c8a-d5b3-8a377b1a9e3b"
      },
      "source": [
        "# Generate predictions (probabilities -- the output of the last layer)\n",
        "# on new data using `predict` \n",
        "\n",
        "# print(\"Generate predictions for 3 samples\")\n",
        "# predictions = model.predict(test_images[:3])\n",
        "# print(\"predictions shape:\", predictions.shape)\n",
        "def test_random_predictions():\n",
        "  plt.figure(figsize=(7,7))\n",
        "  for i in range(9):\n",
        "    plt.subplot(3,3,i+1)\n",
        "    index = random.randint(0, len(test_images))\n",
        "    plt.imshow(test_images[index].reshape(28, 28), cmap='gray')\n",
        "    pred = model.predict(test_images[index].reshape(1, new_dim))\n",
        "    plt.title('Pred:{} Correct:{}'.format(pred.argmax(), y_test[index].argmax()))\n",
        "  plt.tight_layout()\n",
        "\n",
        "test_random_predictions()"
      ],
      "execution_count": 50,
      "outputs": [
        {
          "output_type": "display_data",
          "data": {
            "image/png": "[encoded data removed]",
            "text/plain": [
              "<Figure size 504x504 with 9 Axes>"
            ]
          },
          "metadata": {
            "tags": []
          }
        }
      ]
    },
    {
      "cell_type": "markdown",
      "metadata": {
        "id": "rc9bAsePgA12",
        "colab_type": "text"
      },
      "source": [
        "### Plot Loss Curves to Check for Overfitting"
      ]
    },
    {
      "cell_type": "code",
      "metadata": {
        "id": "RfSUfdS-cf_i",
        "colab_type": "code",
        "colab": {
          "base_uri": "https://localhost:8080/",
          "height": 295
        },
        "outputId": "9db60640-b192-43da-a16f-e533780aa442"
      },
      "source": [
        "# plt.figure()\n",
        "def plot_loss_curves(history):\n",
        "  plt.plot(history.history['loss'], 'blue' )\n",
        "  plt.plot(history.history['val_loss'], 'red' )\n",
        "  plt.legend(['Training loss' , 'Validation Loss'])\n",
        "  plt.xlabel('Epochs' )\n",
        "  plt.ylabel('Loss' )\n",
        "  plt.title('Loss Curves - before regularisation')\n",
        "\n",
        "plot_loss_curves(history)"
      ],
      "execution_count": 51,
      "outputs": [
        {
          "output_type": "display_data",
          "data": {
            "image/png": "[encoded data removed]",
            "text/plain": [
              "<Figure size 432x288 with 1 Axes>"
            ]
          },
          "metadata": {
            "tags": []
          }
        }
      ]
    },
    {
      "cell_type": "markdown",
      "metadata": {
        "id": "IZ9nlMoBpVZf",
        "colab_type": "text"
      },
      "source": [
        "Although the validation and training loss seem great, we can see that the validation loss increases. This identifies overfitting in our network. How do we proceed?"
      ]
    },
    {
      "cell_type": "code",
      "metadata": {
        "id": "rPrV7kFck6Ez",
        "colab_type": "code",
        "colab": {
          "base_uri": "https://localhost:8080/",
          "height": 323
        },
        "outputId": "d327fd65-a436-40d3-dae4-f5372ad89d2f"
      },
      "source": [
        "from keras.layers import Dropout\n",
        "\n",
        "regl_model = Sequential()\n",
        "regl_model.add(Dense(256, activation='relu', input_shape=(new_dim,)))\n",
        "regl_model.add(Dropout(0.4))\n",
        "regl_model.add(Dense(128, activation='relu'))\n",
        "regl_model.add(Dropout(0.4))\n",
        "regl_model.add(Dense(nb_classes, activation='softmax'))\n",
        "regl_model.summary()"
      ],
      "execution_count": 52,
      "outputs": [
        {
          "output_type": "stream",
          "text": [
            "Model: \"sequential_3\"\n",
            "_________________________________________________________________\n",
            "Layer (type)                 Output Shape              Param #   \n",
            "=================================================================\n",
            "dense_9 (Dense)              (None, 256)               200960    \n",
            "_________________________________________________________________\n",
            "dropout_2 (Dropout)          (None, 256)               0         \n",
            "_________________________________________________________________\n",
            "dense_10 (Dense)             (None, 128)               32896     \n",
            "_________________________________________________________________\n",
            "dropout_3 (Dropout)          (None, 128)               0         \n",
            "_________________________________________________________________\n",
            "dense_11 (Dense)             (None, 10)                1290      \n",
            "=================================================================\n",
            "Total params: 235,146\n",
            "Trainable params: 235,146\n",
            "Non-trainable params: 0\n",
            "_________________________________________________________________\n"
          ],
          "name": "stdout"
        }
      ]
    },
    {
      "cell_type": "code",
      "metadata": {
        "id": "6pc_O59Vxrxy",
        "colab_type": "code",
        "colab": {
          "base_uri": "https://localhost:8080/",
          "height": 717
        },
        "outputId": "73f2a499-6796-4403-d444-6d1cce86da40"
      },
      "source": [
        "regl_model.compile(optimizer='adam', loss=keras.losses.categorical_crossentropy,\n",
        "              metrics=['accuracy'])\n",
        "\n",
        "regl_history = regl_model.fit(x_train, y_train, validation_data=(x_val, y_val),\n",
        "                    batch_size=1000, epochs=20, verbose=1)"
      ],
      "execution_count": 53,
      "outputs": [
        {
          "output_type": "stream",
          "text": [
            "Epoch 1/20\n",
            "55/55 [==============================] - 2s 30ms/step - loss: 0.9227 - accuracy: 0.7091 - val_loss: 0.2851 - val_accuracy: 0.9182\n",
            "Epoch 2/20\n",
            "55/55 [==============================] - 2s 28ms/step - loss: 0.3534 - accuracy: 0.8960 - val_loss: 0.1957 - val_accuracy: 0.9436\n",
            "Epoch 3/20\n",
            "55/55 [==============================] - 2s 28ms/step - loss: 0.2661 - accuracy: 0.9233 - val_loss: 0.1547 - val_accuracy: 0.9572\n",
            "Epoch 4/20\n",
            "55/55 [==============================] - 2s 28ms/step - loss: 0.2204 - accuracy: 0.9359 - val_loss: 0.1341 - val_accuracy: 0.9620\n",
            "Epoch 5/20\n",
            "55/55 [==============================] - 2s 28ms/step - loss: 0.1885 - accuracy: 0.9451 - val_loss: 0.1186 - val_accuracy: 0.9662\n",
            "Epoch 6/20\n",
            "55/55 [==============================] - 2s 28ms/step - loss: 0.1666 - accuracy: 0.9507 - val_loss: 0.1046 - val_accuracy: 0.9694\n",
            "Epoch 7/20\n",
            "55/55 [==============================] - 2s 28ms/step - loss: 0.1488 - accuracy: 0.9556 - val_loss: 0.0964 - val_accuracy: 0.9728\n",
            "Epoch 8/20\n",
            "55/55 [==============================] - 2s 28ms/step - loss: 0.1363 - accuracy: 0.9590 - val_loss: 0.0886 - val_accuracy: 0.9744\n",
            "Epoch 9/20\n",
            "55/55 [==============================] - 2s 28ms/step - loss: 0.1249 - accuracy: 0.9628 - val_loss: 0.0840 - val_accuracy: 0.9756\n",
            "Epoch 10/20\n",
            "55/55 [==============================] - 2s 28ms/step - loss: 0.1147 - accuracy: 0.9663 - val_loss: 0.0805 - val_accuracy: 0.9760\n",
            "Epoch 11/20\n",
            "55/55 [==============================] - 2s 28ms/step - loss: 0.1052 - accuracy: 0.9684 - val_loss: 0.0776 - val_accuracy: 0.9750\n",
            "Epoch 12/20\n",
            "55/55 [==============================] - 2s 28ms/step - loss: 0.1012 - accuracy: 0.9697 - val_loss: 0.0764 - val_accuracy: 0.9772\n",
            "Epoch 13/20\n",
            "55/55 [==============================] - 2s 28ms/step - loss: 0.0919 - accuracy: 0.9719 - val_loss: 0.0741 - val_accuracy: 0.9766\n",
            "Epoch 14/20\n",
            "55/55 [==============================] - 2s 28ms/step - loss: 0.0882 - accuracy: 0.9731 - val_loss: 0.0700 - val_accuracy: 0.9774\n",
            "Epoch 15/20\n",
            "55/55 [==============================] - 2s 28ms/step - loss: 0.0827 - accuracy: 0.9749 - val_loss: 0.0702 - val_accuracy: 0.9788\n",
            "Epoch 16/20\n",
            "55/55 [==============================] - 2s 28ms/step - loss: 0.0770 - accuracy: 0.9766 - val_loss: 0.0686 - val_accuracy: 0.9782\n",
            "Epoch 17/20\n",
            "55/55 [==============================] - 2s 28ms/step - loss: 0.0744 - accuracy: 0.9769 - val_loss: 0.0675 - val_accuracy: 0.9798\n",
            "Epoch 18/20\n",
            "55/55 [==============================] - 2s 28ms/step - loss: 0.0675 - accuracy: 0.9796 - val_loss: 0.0680 - val_accuracy: 0.9802\n",
            "Epoch 19/20\n",
            "55/55 [==============================] - 2s 28ms/step - loss: 0.0684 - accuracy: 0.9785 - val_loss: 0.0651 - val_accuracy: 0.9792\n",
            "Epoch 20/20\n",
            "55/55 [==============================] - 2s 28ms/step - loss: 0.0640 - accuracy: 0.9799 - val_loss: 0.0657 - val_accuracy: 0.9790\n"
          ],
          "name": "stdout"
        }
      ]
    },
    {
      "cell_type": "code",
      "metadata": {
        "id": "Vap7tgypGRDC",
        "colab_type": "code",
        "colab": {
          "base_uri": "https://localhost:8080/",
          "height": 34
        },
        "outputId": "0efbf40c-538f-4043-9f38-d7ca089865a9"
      },
      "source": [
        "model.metrics_names"
      ],
      "execution_count": 54,
      "outputs": [
        {
          "output_type": "execute_result",
          "data": {
            "text/plain": [
              "['loss', 'accuracy']"
            ]
          },
          "metadata": {
            "tags": []
          },
          "execution_count": 54
        }
      ]
    },
    {
      "cell_type": "code",
      "metadata": {
        "id": "cNAHmd-lx8BE",
        "colab_type": "code",
        "colab": {
          "base_uri": "https://localhost:8080/",
          "height": 68
        },
        "outputId": "7fb66a91-2e3c-41ad-b062-f78265e3dae7"
      },
      "source": [
        "test_loss, test_accuracy = regl_model.evaluate(test_images, y_test)\n",
        "print('Test loss: {}' .format(test_loss))\n",
        "print('Test accuracy: {}' .format(test_accuracy))"
      ],
      "execution_count": 55,
      "outputs": [
        {
          "output_type": "stream",
          "text": [
            "313/313 [==============================] - 0s 2ms/step - loss: 0.0674 - accuracy: 0.9783\n",
            "Test loss: 0.06743675470352173\n",
            "Test accuracy: 0.9782999753952026\n"
          ],
          "name": "stdout"
        }
      ]
    },
    {
      "cell_type": "code",
      "metadata": {
        "id": "Ng5W64jpyPOw",
        "colab_type": "code",
        "colab": {
          "base_uri": "https://localhost:8080/",
          "height": 453
        },
        "outputId": "dfd3a169-35b5-4ef2-e509-4bec59f020c5"
      },
      "source": [
        "plt.subplots_adjust(hspace=1)\n",
        "plt.figure(figsize=(15,7))\n",
        "# fig, (ax1, ax2) = plt.subplots(1, 2)\n",
        "plt.subplot(1, 2, 1)\n",
        "plot_loss_curves(history)\n",
        "plt.subplot(1, 2, 2)\n",
        "plot_loss_curves(regl_history)\n",
        "# plt.tight_layout()"
      ],
      "execution_count": 56,
      "outputs": [
        {
          "output_type": "display_data",
          "data": {
            "text/plain": [
              "<Figure size 432x288 with 0 Axes>"
            ]
          },
          "metadata": {
            "tags": []
          }
        },
        {
          "output_type": "display_data",
          "data": {
            "image/png": "[encoded data removed]",
            "text/plain": [
              "<Figure size 1080x504 with 2 Axes>"
            ]
          },
          "metadata": {
            "tags": []
          }
        }
      ]
    },
    {
      "cell_type": "code",
      "metadata": {
        "id": "gzd_E2xk7zM5",
        "colab_type": "code",
        "colab": {
          "base_uri": "https://localhost:8080/",
          "height": 513
        },
        "outputId": "8d214a35-908f-451e-c39e-b83ad0d6ac47"
      },
      "source": [
        "test_random_predictions()"
      ],
      "execution_count": 57,
      "outputs": [
        {
          "output_type": "display_data",
          "data": {
            "image/png": "[encoded data removed]",
            "text/plain": [
              "<Figure size 504x504 with 9 Axes>"
            ]
          },
          "metadata": {
            "tags": []
          }
        }
      ]
    }
  ]
}
